{
 "cells": [
  {
   "cell_type": "markdown",
   "id": "4582a4ea",
   "metadata": {},
   "source": [
    "# МОДУЛЬ 1: Трансляторы, Интерпретаторы и Байт-код"
   ]
  },
  {
   "cell_type": "markdown",
   "id": "5698402b",
   "metadata": {},
   "source": [
    "## 1. Архитектуры компьютеров"
   ]
  },
  {
   "cell_type": "markdown",
   "id": "ba95e300",
   "metadata": {},
   "source": [
    "### 1.1. Архитектура фон Неймана\n",
    "- **Суть**: Инструкции и данные хранятся в одной области памяти.\n",
    "- **CPU** извлекает их по одной шине.\n",
    "- **Преимущества**: простота, экономичность, гибкость.\n",
    "- **Где используется**: настольные компьютеры, ноутбуки, серверы, большинство современных процессоров."
   ]
  },
  {
   "cell_type": "markdown",
   "id": "c924a24f",
   "metadata": {},
   "source": [
    "### 1.2. Гарвардская архитектура\n",
    "- **Суть**: Инструкции и данные хранятся в разных областях памяти.\n",
    "- **CPU** может получать инструкции и данные параллельно.\n",
    "- **Преимущества**: параллелизм, скорость, повышенная безопасность.\n",
    "- **Где используется**: встраиваемые системы, микроконтроллеры, цифровые сигнальные процессоры (DSP)."
   ]
  },
  {
   "cell_type": "markdown",
   "id": "8c2f08a9",
   "metadata": {},
   "source": [
    "### 1.3. Bottleneck (узкое место)\n",
    "- В архитектуре фон Неймана возникает **узкое место** из-за общей шины для инструкций и данных."
   ]
  },
  {
   "cell_type": "markdown",
   "id": "133f684d",
   "metadata": {},
   "source": [
    "### 1.4. Риски безопасности\n",
    "- Общая память в архитектуре фон Неймана может быть уязвима для атак.\n",
    "- В Гарвардской архитектуре отдельные области памяти снижают риск взлома кода."
   ]
  },
  {
   "cell_type": "markdown",
   "id": "4dcd24a2",
   "metadata": {},
   "source": [
    "### 1.5. Когерентность памяти\n",
    "- В многопроцессорных системах важно, чтобы изменения данных одним процессором были видны другим.\n",
    "- **Когерентность памяти** гарантирует согласованность изменений."
   ]
  },
  {
   "cell_type": "markdown",
   "id": "580e2cf9",
   "metadata": {},
   "source": [
    "### 1.6. Сравнение архитектур\n",
    "- **Фон Неймана**: универсальная архитектура для большинства общих задач.\n",
    "- **Гарвард**: специализированные задачи, требующие высокой производительности (DSP, микроконтроллеры)."
   ]
  },
  {
   "cell_type": "markdown",
   "id": "c9431abb",
   "metadata": {},
   "source": [
    "## 2. Кэш процессора"
   ]
  },
  {
   "cell_type": "markdown",
   "id": "abe9c85b",
   "metadata": {},
   "source": [
    "### 2.1. Кеширование\n",
    "- Механизм временного хранения часто используемых данных для ускорения доступа.\n",
    "- Позволяет сократить время ожидания при обращении к памяти."
   ]
  },
  {
   "cell_type": "markdown",
   "id": "889756b9",
   "metadata": {},
   "source": [
    "### 2.2. Уровни кэша (L1, L2, L3)\n",
    "- Используются несколько уровней кэша для баланса между скоростью, стоимостью и размером.\n",
    "- **L1** – самый быстрый, но небольшой.\n",
    "- **L2** – больше, но медленнее.\n",
    "- **L3** – самый объемный, но самый медленный среди кэш-уровней."
   ]
  },
  {
   "cell_type": "markdown",
   "id": "ef72dc09",
   "metadata": {},
   "source": [
    "### 2.3. Кэш процессора на 1 ТБ?\n",
    "- Было бы крайне неэффективным и дорогим решением.\n",
    "- Высокая стоимость SRAM, колоссальное энергопотребление и увеличение времени доступа."
   ]
  },
  {
   "cell_type": "markdown",
   "id": "ca92ae63",
   "metadata": {},
   "source": [
    "### 2.4. SRAM vs DRAM\n",
    "- **SRAM** (Static RAM) — быстрая и дорогая, используется для кэша.\n",
    "- **DRAM** (Dynamic RAM) — медленнее, но дешевле, используется для основной памяти.\n",
    "- При увеличении размера кэша ухудшается время поиска данных, что снижает выигрыш в производительности."
   ]
  },
  {
   "cell_type": "markdown",
   "id": "72267ba1",
   "metadata": {},
   "source": [
    "## 3. Python: процесс трансляции"
   ]
  },
  {
   "cell_type": "markdown",
   "id": "2fc25000",
   "metadata": {},
   "source": [
    "### 3.1. Lexer, Parser, Semantic Analysis\n",
    "- **Lexer** разбивает код на элементарные токены.\n",
    "- **Parser** строит дерево разбора (AST).\n",
    "- **Semantic Analysis** проверяет корректность с точки зрения языка (например, объявлены ли переменные).\n",
    "\n",
    "Пример лексического анализа в Python (упрощенный):"
   ]
  },
  {
   "cell_type": "code",
   "execution_count": 1,
   "id": "2b75c035",
   "metadata": {},
   "outputs": [
    {
     "name": "stdout",
     "output_type": "stream",
     "text": [
      "TokenInfo(type=63 (ENCODING), string='utf-8', start=(0, 0), end=(0, 0), line='')\n",
      "TokenInfo(type=62 (NL), string='\\n', start=(1, 0), end=(1, 1), line='\\n')\n",
      "TokenInfo(type=1 (NAME), string='x', start=(2, 0), end=(2, 1), line='x = 10\\n')\n",
      "TokenInfo(type=54 (OP), string='=', start=(2, 2), end=(2, 3), line='x = 10\\n')\n",
      "TokenInfo(type=2 (NUMBER), string='10', start=(2, 4), end=(2, 6), line='x = 10\\n')\n",
      "TokenInfo(type=4 (NEWLINE), string='\\n', start=(2, 6), end=(2, 7), line='x = 10\\n')\n",
      "TokenInfo(type=1 (NAME), string='if', start=(3, 0), end=(3, 2), line='if x > 5:\\n')\n",
      "TokenInfo(type=1 (NAME), string='x', start=(3, 3), end=(3, 4), line='if x > 5:\\n')\n",
      "TokenInfo(type=54 (OP), string='>', start=(3, 5), end=(3, 6), line='if x > 5:\\n')\n",
      "TokenInfo(type=2 (NUMBER), string='5', start=(3, 7), end=(3, 8), line='if x > 5:\\n')\n",
      "TokenInfo(type=54 (OP), string=':', start=(3, 8), end=(3, 9), line='if x > 5:\\n')\n",
      "TokenInfo(type=4 (NEWLINE), string='\\n', start=(3, 9), end=(3, 10), line='if x > 5:\\n')\n",
      "TokenInfo(type=5 (INDENT), string='    ', start=(4, 0), end=(4, 4), line='    print(x)\\n')\n",
      "TokenInfo(type=1 (NAME), string='print', start=(4, 4), end=(4, 9), line='    print(x)\\n')\n",
      "TokenInfo(type=54 (OP), string='(', start=(4, 9), end=(4, 10), line='    print(x)\\n')\n",
      "TokenInfo(type=1 (NAME), string='x', start=(4, 10), end=(4, 11), line='    print(x)\\n')\n",
      "TokenInfo(type=54 (OP), string=')', start=(4, 11), end=(4, 12), line='    print(x)\\n')\n",
      "TokenInfo(type=4 (NEWLINE), string='\\n', start=(4, 12), end=(4, 13), line='    print(x)\\n')\n",
      "TokenInfo(type=6 (DEDENT), string='', start=(5, 0), end=(5, 0), line='')\n",
      "TokenInfo(type=0 (ENDMARKER), string='', start=(5, 0), end=(5, 0), line='')\n"
     ]
    }
   ],
   "source": [
    "import tokenize\n",
    "from io import BytesIO\n",
    "\n",
    "code = b\"\"\"\n",
    "x = 10\n",
    "if x > 5:\n",
    "    print(x)\n",
    "\"\"\"\n",
    "\n",
    "tokens = tokenize.tokenize(BytesIO(code).readline)\n",
    "for tok in tokens:\n",
    "    print(tok)"
   ]
  },
  {
   "cell_type": "markdown",
   "id": "ff6d7f5a",
   "metadata": {},
   "source": [
    "### 3.2. Генерация байт-кода\n",
    "- CPython компилирует исходный код в **байт-код** (промежуточное представление).\n",
    "- Этот байт-код затем исполняется **виртуальной машиной** (PVM)."
   ]
  },
  {
   "cell_type": "markdown",
   "id": "71b6b691",
   "metadata": {},
   "source": [
    "### 3.3. Токены, AST и .pyc-файлы\n",
    "- **Токены** – элементарные единицы (ключевые слова, идентификаторы и т.д.).\n",
    "- **AST** – абстрактное синтаксическое дерево, отражающее структуру программы.\n",
    "- **.pyc-файлы** – байт-код, сохраненный для ускорения повторных запусков."
   ]
  },
  {
   "cell_type": "markdown",
   "id": "bc57e9fc",
   "metadata": {},
   "source": [
    "### 3.4. Полезные модули для трансляции:\n",
    "- `tokenize` – лексический анализ.\n",
    "- `ast` – работа с абстрактным синтаксическим деревом.\n",
    "- `dis` – дизассемблер байт-кода.\n",
    "- `py_compile` – компиляция Python-кода в байт-код.\n",
    "- `marshal` – сериализация/десериализация объектов Python.\n",
    "- `mypy` – статическая проверка типов (не входит в стандартную библиотеку)."
   ]
  },
  {
   "cell_type": "markdown",
   "id": "62d585c4",
   "metadata": {},
   "source": [
    "### 3.5. `__pycache__`\n",
    "- Директория, где хранятся **.pyc-файлы** со скомпилированным байт-кодом."
   ]
  },
  {
   "cell_type": "markdown",
   "id": "aa105a3f",
   "metadata": {},
   "source": [
    "### 3.6. Объект класса `code`\n",
    "- Представляет скомпилированный байт-код (функции или модуля).\n",
    "- Содержит метаинформацию: константы, локальные переменные, инструкции."
   ]
  },
  {
   "cell_type": "markdown",
   "id": "ea985645",
   "metadata": {},
   "source": [
    "## 4. Python байт-код"
   ]
  },
  {
   "cell_type": "markdown",
   "id": "af0e90a4",
   "metadata": {},
   "source": [
    "### 4.1. Компиляция vs Интерпретация\n",
    "- **Компиляция**: преобразование кода из одного языка в другой (обычно в машинный код), но в Python — это промежуточная компиляция в байт-код.\n",
    "- **Интерпретация**: построчное выполнение инструкций во время работы программы.\n",
    "\n",
    "> **Примечание**: В большинстве материалов по Python говорят о «трансляции» как о процессе компиляции в байт-код и дальнейшей интерпретации байт-кода."
   ]
  },
  {
   "cell_type": "markdown",
   "id": "7d203982",
   "metadata": {},
   "source": [
    "### 4.2. Байт-код\n",
    "- Промежуточное представление кода, независимое от архитектуры.\n",
    "- Компактнее и удобнее для интерпретации, чем машинный код, зависящий от процессора."
   ]
  },
  {
   "cell_type": "markdown",
   "id": "9d1f7018",
   "metadata": {},
   "source": [
    "### 4.3. Способы просмотра байт-кода\n",
    "- Использовать модуль `dis` и функцию `dis.dis()`.\n",
    "- Пример:"
   ]
  },
  {
   "cell_type": "code",
   "execution_count": 2,
   "id": "5b46598f",
   "metadata": {},
   "outputs": [
    {
     "name": "stdout",
     "output_type": "stream",
     "text": [
      "  3           0 RESUME                   0\n",
      "\n",
      "  4           2 LOAD_FAST                0 (x)\n",
      "              4 LOAD_FAST                1 (y)\n",
      "              6 BINARY_OP                0 (+)\n",
      "             10 RETURN_VALUE\n"
     ]
    }
   ],
   "source": [
    "import dis\n",
    "\n",
    "def my_func(x, y):\n",
    "    return x + y\n",
    "\n",
    "dis.dis(my_func)"
   ]
  },
  {
   "cell_type": "markdown",
   "id": "827cab59",
   "metadata": {},
   "source": [
    "### 4.4. Байт-код и архитектура\n",
    "- Байт-код не зависит от архитектуры процессора.\n",
    "- Выполняется виртуальной машиной (PVM), которая абстрагирует платформу."
   ]
  },
  {
   "cell_type": "markdown",
   "id": "823d515b",
   "metadata": {},
   "source": [
    "### 4.5. Зависимость от реализации\n",
    "- Разные реализации (CPython, PyPy, Jython) могут генерировать разный байт-код.\n",
    "- Но логика выполнения при этом остаётся эквивалентной (с точки зрения Python-языка)."
   ]
  },
  {
   "cell_type": "markdown",
   "id": "aff57ae6",
   "metadata": {},
   "source": [
    "### 4.6. Исполнение байт-кода\n",
    "- **Python Virtual Machine (PVM)** последовательно интерпретирует байт-код и выполняет инструкции."
   ]
  },
  {
   "cell_type": "markdown",
   "id": "27e8488a",
   "metadata": {},
   "source": [
    "## 5. PVM (Python Virtual Machine)"
   ]
  },
  {
   "cell_type": "markdown",
   "id": "251b4c0f",
   "metadata": {},
   "source": [
    "### 5.1. Что такое PVM\n",
    "- Это часть интерпретатора CPython.\n",
    "- Получает на вход байт-код и исполняет его.\n",
    "- Управляет памятью, исключениями и другими аспектами выполнения."
   ]
  },
  {
   "cell_type": "markdown",
   "id": "acc27cb7",
   "metadata": {},
   "source": [
    "### 5.2. PVM и GC\n",
    "- **Garbage Collector (GC)** освобождает неиспользуемую память.\n",
    "- PVM взаимодействует с GC и управляет системными ресурсами (файлы, сетевые соединения и т.д.)."
   ]
  },
  {
   "cell_type": "markdown",
   "id": "04456e4b",
   "metadata": {},
   "source": [
    "## 6. JIT (Just-In-Time компиляция)"
   ]
  },
  {
   "cell_type": "markdown",
   "id": "07bda59d",
   "metadata": {},
   "source": [
    "### 6.1. Суть JIT\n",
    "- Динамическая компиляция кода во время выполнения.\n",
    "- Основные шаги:\n",
    "  1. Интерпретация байт-кода.\n",
    "  2. Выявление «горячих точек» (часто исполняющегося кода).\n",
    "  3. Компиляция этих участков в машинный код.\n",
    "  4. Кэширование скомпилированного кода."
   ]
  },
  {
   "cell_type": "markdown",
   "id": "1f59c4c3",
   "metadata": {},
   "source": [
    "### 6.2. «Горячие точки»\n",
    "- Часто вызываемые функции или циклы.\n",
    "- JIT-компилятор переводит их в машинный код для ускорения последующих запусков."
   ]
  },
  {
   "cell_type": "markdown",
   "id": "ce6d083e",
   "metadata": {},
   "source": [
    "### 6.3. Недостатки JIT\n",
    "- Увеличение времени запуска (Overhead на анализ и компиляцию).\n",
    "- Дополнительное потребление памяти.\n",
    "- Усложнение реализации интерпретатора."
   ]
  },
  {
   "cell_type": "markdown",
   "id": "9c40fc96",
   "metadata": {},
   "source": [
    "## 7. Различные реализации Python"
   ]
  },
  {
   "cell_type": "markdown",
   "id": "337f4b6b",
   "metadata": {},
   "source": [
    "### 7.1. CPython и Cython\n",
    "- **CPython** – эталонная реализация на C.\n",
    "- **Cython** – надстройка над Python, позволяет компилировать код в C для повышения производительности."
   ]
  },
  {
   "cell_type": "markdown",
   "id": "1846254b",
   "metadata": {},
   "source": [
    "### 7.2. PyPy\n",
    "- Реализация Python с JIT-компилятором.\n",
    "- Часто быстрее CPython на долгих вычислительных задачах.\n",
    "- Стремится к максимально возможной совместимости с CPython."
   ]
  },
  {
   "cell_type": "markdown",
   "id": "25be4f1a",
   "metadata": {},
   "source": [
    "### 7.3. Jython\n",
    "- Компилирует Python-код в байт-код Java.\n",
    "- Выполняется на JVM, что упрощает взаимодействие с Java-библиотеками."
   ]
  },
  {
   "cell_type": "markdown",
   "id": "b1022669",
   "metadata": {},
   "source": [
    "### 7.4. GraalPy\n",
    "- Реализация на базе **GraalVM**.\n",
    "- Поддерживает популярные библиотеки (NumPy, SciPy, PyTorch и т.д.).\n",
    "- Нацелена на высокую производительность благодаря оптимизациям GraalVM."
   ]
  },
  {
   "cell_type": "markdown",
   "id": "ad66ddef",
   "metadata": {},
   "source": [
    "### 7.5. Nogil\n",
    "- Экспериментальная ветка CPython, убирающая **GIL**.\n",
    "- Позволяет более эффективно задействовать потоки.\n",
    "- Увеличивает сложность кода и требует ручного управления безопасностью потоков."
   ]
  },
  {
   "cell_type": "markdown",
   "id": "325948c1",
   "metadata": {},
   "source": [
    "### 7.6. Pyodide\n",
    "- Скомпилирован в **WebAssembly**.\n",
    "- Позволяет запускать Python прямо в браузере."
   ]
  },
  {
   "cell_type": "markdown",
   "id": "18409612",
   "metadata": {},
   "source": [
    "### 7.7. Brython\n",
    "- Транслирует Python-код в JavaScript.\n",
    "- Используется для клиентских веб-скриптов (вместо JavaScript)."
   ]
  },
  {
   "cell_type": "markdown",
   "id": "c33ff2ec",
   "metadata": {},
   "source": [
    "### 7.8. MicroPython\n",
    "- Легковесная версия, оптимизированная для микроконтроллеров.\n",
    "- Подходит для проектов IoT и встраиваемых систем."
   ]
  },
  {
   "cell_type": "markdown",
   "id": "0ca181a5",
   "metadata": {},
   "source": [
    "## 8. GIL (Global Interpreter Lock)"
   ]
  },
  {
   "cell_type": "markdown",
   "id": "d12d64f0",
   "metadata": {},
   "source": [
    "### 8.1. Что такое GIL\n",
    "- Механизм в CPython, не позволяющий нескольким потокам одновременно выполнять байт-код Python.\n",
    "- Упрощает реализацию интерпретатора и защищает внутренние структуры данных от гонок (race conditions)."
   ]
  },
  {
   "cell_type": "markdown",
   "id": "8d9d3ad1",
   "metadata": {},
   "source": [
    "### 8.2. Влияние GIL на многопоточность\n",
    "- Потоки «по очереди» получают доступ к интерпретатору.\n",
    "- В вычислительных задачах на чистом Python это снижает параллелизм.\n",
    "- Но при использовании нативных расширений (например, NumPy, SciPy) GIL часто освобождается на время выполнения C/Fortran-кода."
   ]
  },
  {
   "cell_type": "markdown",
   "id": "bee3a03b",
   "metadata": {},
   "source": [
    "### Пример влияния GIL на потоки\n",
    "В этом примере каждый поток просто \"крутит\" цикл, но из-за GIL в CPython не достигнем настоящего параллелизма на уровне байт-кода:"
   ]
  },
  {
   "cell_type": "code",
   "execution_count": 3,
   "id": "b13f71ed",
   "metadata": {},
   "outputs": [
    {
     "name": "stdout",
     "output_type": "stream",
     "text": [
      "49999995000000\n",
      "49999995000000\n",
      "49999995000000\n",
      "49999995000000\n"
     ]
    }
   ],
   "source": [
    "import threading\n",
    "\n",
    "def cpu_bound_task(n):\n",
    "    s = 0\n",
    "    for i in range(n):\n",
    "        s += i\n",
    "    print(s)\n",
    "\n",
    "threads = []\n",
    "for _ in range(4):\n",
    "    t = threading.Thread(target=cpu_bound_task, args=(10_000_000,))\n",
    "    threads.append(t)\n",
    "    t.start()\n",
    "\n",
    "for t in threads:\n",
    "    t.join()"
   ]
  },
  {
   "cell_type": "markdown",
   "id": "91eaf060",
   "metadata": {},
   "source": [
    "Использование `multiprocessing` (процессы) вместо потоков обходит ограничение GIL, так как каждый процесс имеет свой интерпретатор."
   ]
  }
 ],
 "metadata": {
  "kernelspec": {
   "display_name": "Python 3 (ipykernel)",
   "language": "python",
   "name": "python3"
  },
  "language_info": {
   "codemirror_mode": {
    "name": "ipython",
    "version": 3
   },
   "file_extension": ".py",
   "mimetype": "text/x-python",
   "name": "python",
   "nbconvert_exporter": "python",
   "pygments_lexer": "ipython3",
   "version": "3.11.7"
  }
 },
 "nbformat": 4,
 "nbformat_minor": 5
}
