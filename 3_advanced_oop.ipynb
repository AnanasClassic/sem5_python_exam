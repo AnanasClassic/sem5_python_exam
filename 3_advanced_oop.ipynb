{
 "cells": [
  {
   "cell_type": "markdown",
   "id": "8be4ed46",
   "metadata": {},
   "source": [
    "# МОДУЛЬ 3: Advanced ООП"
   ]
  },
  {
   "cell_type": "markdown",
   "id": "780c9446",
   "metadata": {},
   "source": [
    "## 1. Дополнительные dunder-методы"
   ]
  },
  {
   "cell_type": "markdown",
   "id": "6043d1e5",
   "metadata": {},
   "source": [
    "### 1.1. `__new__` и `super().__new__(cls, ...)`\n",
    "- `__new__` вызывается до `__init__` и отвечает за **создание нового экземпляра**.\n",
    "- Принимает класс (`cls`) и должен **вернуть** новый объект.\n",
    "- `super().__new__(cls, ...)` вызывает `__new__` родительского класса.\n",
    "- Если `__new__` вернет объект другого класса или `None`, `__init__` **не** вызывается.\n",
    "\n",
    "Ниже простой пример, где в `__new__` мы лишь выводим сообщение и возвращаем объект, а уже в `__init__` — инициализируем атрибуты:"
   ]
  },
  {
   "cell_type": "code",
   "execution_count": 1,
   "id": "0eb5416a",
   "metadata": {},
   "outputs": [
    {
     "name": "stdout",
     "output_type": "stream",
     "text": [
      "__new__ called\n",
      "__init__ called\n",
      "Value: 42\n"
     ]
    }
   ],
   "source": [
    "class MyClass:\n",
    "    def __new__(cls, *args, **kwargs):\n",
    "        print(\"__new__ called\")\n",
    "        instance = super().__new__(cls)\n",
    "        return instance\n",
    "\n",
    "    def __init__(self):\n",
    "        print(\"__init__ called\")\n",
    "        self.value = 42\n",
    "\n",
    "obj = MyClass()\n",
    "print(\"Value:\", obj.value)\n"
   ]
  },
  {
   "cell_type": "markdown",
   "id": "dabcc58e",
   "metadata": {},
   "source": [
    "Дополнительный пример: когда `__new__` возвращает `None`, конструктор `__init__` вызываться не будет:"
   ]
  },
  {
   "cell_type": "code",
   "execution_count": 2,
   "id": "a62b1096",
   "metadata": {},
   "outputs": [
    {
     "name": "stdout",
     "output_type": "stream",
     "text": [
      "No instance created\n",
      "None\n"
     ]
    }
   ],
   "source": [
    "class NoInstance:\n",
    "    def __new__(cls, *args, **kwargs):\n",
    "        print(\"No instance created\")\n",
    "        return None  # Возвращаем None\n",
    "\n",
    "    def __init__(self):\n",
    "        print(\"__init__ called\")\n",
    "\n",
    "obj = NoInstance()\n",
    "print(obj)  # None"
   ]
  },
  {
   "cell_type": "markdown",
   "id": "ba02a280",
   "metadata": {},
   "source": [
    "### 1.2. `__del__` (финализация объекта)\n",
    "- Вызывается при уничтожении объекта сборщиком мусора.\n",
    "- Обычно используется для освобождения **внешних ресурсов** (файлы, сетевые соединения).\n",
    "- На практике советуют использовать **контекстные менеджеры** или прочие механизмы, чтобы явным образом управлять ресурсами."
   ]
  },
  {
   "cell_type": "code",
   "execution_count": 3,
   "id": "60c1caf9",
   "metadata": {},
   "outputs": [
    {
     "name": "stdout",
     "output_type": "stream",
     "text": [
      "Resource DB Connection acquired\n"
     ]
    }
   ],
   "source": [
    "class Resource:\n",
    "    def __init__(self, name):\n",
    "        self.name = name\n",
    "        print(f\"Resource {self.name} acquired\")\n",
    "\n",
    "    def __del__(self):\n",
    "        print(f\"Resource {self.name} released\")\n",
    "\n",
    "r = Resource(\"DB Connection\")\n",
    "# Уничтожение может произойти при выходе из области видимости или при завершении программы.\n"
   ]
  },
  {
   "cell_type": "markdown",
   "id": "1603b14d",
   "metadata": {},
   "source": [
    "## 2. Singleton, Generic"
   ]
  },
  {
   "cell_type": "markdown",
   "id": "3ca956d6",
   "metadata": {},
   "source": [
    "### 2.1. Шаблон Singleton\n",
    "- Гарантирует, что у класса есть только **один** экземпляр.\n",
    "- Информация о Singleton не была в исходных источниках, но вот пример реализации."
   ]
  },
  {
   "cell_type": "code",
   "execution_count": 4,
   "id": "f8c54991",
   "metadata": {},
   "outputs": [
    {
     "name": "stdout",
     "output_type": "stream",
     "text": [
      "True\n"
     ]
    }
   ],
   "source": [
    "class Singleton:\n",
    "    _instance = None\n",
    "\n",
    "    def __new__(cls, *args, **kwargs):\n",
    "        if cls._instance is None:\n",
    "            cls._instance = super().__new__(cls)\n",
    "        return cls._instance\n",
    "\n",
    "s1 = Singleton()\n",
    "s2 = Singleton()\n",
    "print(s1 is s2)  # True"
   ]
  },
  {
   "cell_type": "markdown",
   "id": "a47dd657",
   "metadata": {},
   "source": [
    "### 2.2. Generic через `__class_getitem__`\n",
    "- Позволяет создавать **параметризованные классы** (Generic).\n",
    "- Вызывается при использовании синтаксиса `MyClass[T]`.\n",
    "- Можно сохранить информацию о типе и использовать её внутри класса.\n",
    "\n",
    "Ниже упрощенный пример, где `__class_getitem__` печатает переданный тип и динамически создает подкласс:"
   ]
  },
  {
   "cell_type": "code",
   "execution_count": 5,
   "id": "2494951f",
   "metadata": {},
   "outputs": [
    {
     "name": "stdout",
     "output_type": "stream",
     "text": [
      "__class_getitem__ called with: <class 'int'>\n",
      "Box(123)\n",
      "Type stored: <class 'int'>\n"
     ]
    }
   ],
   "source": [
    "class Box:\n",
    "    def __init__(self, item):\n",
    "        self.item = item\n",
    "\n",
    "    def __repr__(self):\n",
    "        return f\"Box({self.item})\"\n",
    "\n",
    "    def __class_getitem__(cls, item_type):\n",
    "        # Можно добавить проверки, логику и т.д.\n",
    "        print(f\"__class_getitem__ called with: {item_type}\")\n",
    "        return type(f\"{cls.__name__}_{item_type}\", (cls,), {\"_type\": item_type})\n",
    "\n",
    "# Пример использования:\n",
    "IntBox = Box[int]\n",
    "ib = IntBox(123)\n",
    "print(ib)\n",
    "print(\"Type stored:\", ib._type)"
   ]
  },
  {
   "cell_type": "markdown",
   "id": "568778a9",
   "metadata": {},
   "source": [
    "## 3. Индексирование и подскрипты"
   ]
  },
  {
   "cell_type": "markdown",
   "id": "003c0594",
   "metadata": {},
   "source": [
    "### 3.1. `__class_getitem__` vs `__getitem__`, `__setitem__`, `__delitem__`\n",
    "- `__getitem__`, `__setitem__`, `__delitem__` работают с **экземпляром** класса (`obj[key]`).\n",
    "- `__class_getitem__` работает при индексировании самого **класса** (`ClassName[key]`).\n",
    "\n",
    "### 3.2. Исключение `IndexError`\n",
    "- Генерируется при выходе за пределы индекса.\n",
    "- Цикл `for` вызывает `__getitem__`, увеличивая индекс, пока не произойдет `IndexError`."
   ]
  },
  {
   "cell_type": "code",
   "execution_count": 6,
   "id": "a389a702",
   "metadata": {},
   "outputs": [
    {
     "name": "stdout",
     "output_type": "stream",
     "text": [
      "10\n",
      "20\n",
      "30\n"
     ]
    }
   ],
   "source": [
    "class MyList:\n",
    "    def __init__(self, data):\n",
    "        self.data = data\n",
    "\n",
    "    def __getitem__(self, index):\n",
    "        if index < 0 or index >= len(self.data):\n",
    "            raise IndexError(\"Index out of range\")\n",
    "        return self.data[index]\n",
    "\n",
    "my_list = MyList([10, 20, 30])\n",
    "for x in my_list:\n",
    "    print(x)\n"
   ]
  },
  {
   "cell_type": "markdown",
   "id": "679a706e",
   "metadata": {},
   "source": [
    "## 4. Итерация"
   ]
  },
  {
   "cell_type": "markdown",
   "id": "94643f3e",
   "metadata": {},
   "source": [
    "### 4.1. `__getitem__`, `__iter__`, `__next__`\n",
    "- `__iter__` должен возвращать объект-итератор.\n",
    "- `__next__` возвращает следующий элемент или возбуждает `StopIteration`.\n",
    "- Если `__iter__` не определен, Python может использовать `__getitem__` для итерации (но это менее гибкий вариант)."
   ]
  },
  {
   "cell_type": "code",
   "execution_count": 7,
   "id": "15c5c04b",
   "metadata": {},
   "outputs": [
    {
     "name": "stdout",
     "output_type": "stream",
     "text": [
      "0\n",
      "1\n",
      "2\n"
     ]
    }
   ],
   "source": [
    "class RangeIter:\n",
    "    def __init__(self, start, end):\n",
    "        self.current = start\n",
    "        self.end = end\n",
    "\n",
    "    def __iter__(self):\n",
    "        return self  # объект сам является итератором\n",
    "\n",
    "    def __next__(self):\n",
    "        if self.current >= self.end:\n",
    "            raise StopIteration\n",
    "        val = self.current\n",
    "        self.current += 1\n",
    "        return val\n",
    "\n",
    "for num in RangeIter(0, 3):\n",
    "    print(num)"
   ]
  },
  {
   "cell_type": "markdown",
   "id": "3c6543cb",
   "metadata": {},
   "source": [
    "### 4.2. Исключение `StopIteration`\n",
    "- Возбуждается, когда итератор заканчивается.\n",
    "- Является сигналом для цикла `for` завершить итерацию."
   ]
  },
  {
   "cell_type": "markdown",
   "id": "b38942ca",
   "metadata": {},
   "source": [
    "## 5. Контекстные менеджеры"
   ]
  },
  {
   "cell_type": "markdown",
   "id": "58c70b51",
   "metadata": {},
   "source": [
    "### 5.1. `__enter__` и `__exit__`\n",
    "- `__enter__` вызывается при входе в блок `with`.\n",
    "- `__exit__` вызывается при выходе из блока `with`, даже если возникло исключение."
   ]
  },
  {
   "cell_type": "code",
   "execution_count": 8,
   "id": "a9afa344",
   "metadata": {},
   "outputs": [
    {
     "name": "stdout",
     "output_type": "stream",
     "text": [
      "Enter context\n",
      "Inside with block\n",
      "Exit context\n"
     ]
    }
   ],
   "source": [
    "class MyContext:\n",
    "    def __enter__(self):\n",
    "        print(\"Enter context\")\n",
    "        return self\n",
    "\n",
    "    def __exit__(self, exc_type, exc_value, traceback):\n",
    "        print(\"Exit context\")\n",
    "        if exc_type:\n",
    "            print(f\"An exception occurred: {exc_value}\")\n",
    "        # По умолчанию возвращаем None или False, чтобы не подавлять исключение.\n",
    "\n",
    "with MyContext() as ctx:\n",
    "    print(\"Inside with block\")\n"
   ]
  },
  {
   "cell_type": "markdown",
   "id": "3822e19e",
   "metadata": {},
   "source": [
    "### 5.2. Параметры `exc_type`, `exc_value`, `traceback`\n",
    "- Передаются в `__exit__` и содержат информацию об исключении, если оно произошло."
   ]
  },
  {
   "cell_type": "markdown",
   "id": "c27a4b4b",
   "metadata": {},
   "source": [
    "### 5.3. Языковая конструкция `with`\n",
    "- Упрощает работу с ресурсами, которые нужно освободить.\n",
    "- Пример: `with open('file.txt') as f: ...`"
   ]
  },
  {
   "cell_type": "markdown",
   "id": "fe49f974",
   "metadata": {},
   "source": [
    "## 6. Дескрипторы"
   ]
  },
  {
   "cell_type": "markdown",
   "id": "7955247b",
   "metadata": {},
   "source": [
    "### 6.1. Data Descriptor vs Non-data Descriptor\n",
    "- **Data descriptor**: определяет методы `__get__` и `__set__`.\n",
    "- **Non-data descriptor**: определяет только метод `__get__`.\n",
    "- Data-дескрипторы имеют **приоритет** над атрибутами экземпляра."
   ]
  },
  {
   "cell_type": "markdown",
   "id": "e38eaa16",
   "metadata": {},
   "source": [
    "### 6.2. Методы `__get__`, `__set__`, `__delete__` vs `__del__`, `__set_name__`\n",
    "- `__get__`: чтение атрибута.\n",
    "- `__set__`: запись атрибута.\n",
    "- `__delete__`: удаление атрибута.\n",
    "- `__del__`: вызов при уничтожении объекта (не путать с `__delete__`).\n",
    "- `__set_name__`: вызывается при создании класса, чтобы дескриптор знал свое имя."
   ]
  },
  {
   "cell_type": "markdown",
   "id": "760133e9",
   "metadata": {},
   "source": [
    "### 6.3. @property как Data Descriptor\n",
    "- `@property` создает data-дескриптор.\n",
    "- Позволяет определить логику чтения/записи/удаления атрибута через геттер, сеттер и делетер."
   ]
  },
  {
   "cell_type": "code",
   "execution_count": 9,
   "id": "50f7fe5d",
   "metadata": {},
   "outputs": [
    {
     "name": "stdout",
     "output_type": "stream",
     "text": [
      "100\n"
     ]
    }
   ],
   "source": [
    "class MyDescriptor:\n",
    "    def __set_name__(self, owner, name):\n",
    "        self.name = name\n",
    "\n",
    "    def __get__(self, instance, owner):\n",
    "        if instance is None:\n",
    "            return self\n",
    "        return instance.__dict__.get(self.name, None)\n",
    "\n",
    "    def __set__(self, instance, value):\n",
    "        instance.__dict__[self.name] = value\n",
    "\n",
    "class Sample:\n",
    "    attr = MyDescriptor()\n",
    "\n",
    "s = Sample()\n",
    "s.attr = 100\n",
    "print(s.attr)  # 100"
   ]
  },
  {
   "cell_type": "markdown",
   "id": "b83541b4",
   "metadata": {},
   "source": [
    "## 7. Доступ к атрибутам объекта"
   ]
  },
  {
   "cell_type": "markdown",
   "id": "96429969",
   "metadata": {},
   "source": [
    "### 7.1. `__getattribute__` vs `__getattr__`, `__setattr__`, `__delattr__`\n",
    "- `__getattribute__`: вызывается при **каждом** доступе к атрибуту.\n",
    "- `__getattr__`: вызывается только если атрибут **не найден** обычным способом.\n",
    "- `__setattr__`: вызывается при установке атрибута.\n",
    "- `__delattr__`: вызывается при удалении атрибута."
   ]
  },
  {
   "cell_type": "markdown",
   "id": "2ffbca02",
   "metadata": {},
   "source": [
    "### 7.2. Предотвращение бесконечной рекурсии\n",
    "- Использовать `object.__setattr__(self, name, value)` или `super().__setattr__(name, value)` внутри `__setattr__`.\n",
    "- Аналогично для `__delattr__`."
   ]
  },
  {
   "cell_type": "code",
   "execution_count": 10,
   "id": "a5c0cd86",
   "metadata": {},
   "outputs": [
    {
     "name": "stdout",
     "output_type": "stream",
     "text": [
      "Setting x = 10\n",
      "Getting x\n",
      "10\n"
     ]
    }
   ],
   "source": [
    "class AttrLogger:\n",
    "    def __getattribute__(self, name):\n",
    "        print(f\"Getting {name}\")\n",
    "        return super().__getattribute__(name)\n",
    "\n",
    "    def __setattr__(self, name, value):\n",
    "        print(f\"Setting {name} = {value}\")\n",
    "        super().__setattr__(name, value)\n",
    "\n",
    "a = AttrLogger()\n",
    "a.x = 10  # Setting x = 10\n",
    "print(a.x) # Getting x -> 10"
   ]
  },
  {
   "cell_type": "markdown",
   "id": "20cc8887",
   "metadata": {},
   "source": [
    "## 8. `super(...)`"
   ]
  },
  {
   "cell_type": "markdown",
   "id": "e4e4b2a3",
   "metadata": {},
   "source": [
    "### 8.1. Прокси-объект: `__thisclass__`, `__self__`, `__self_class__`\n",
    "- `super()` возвращает объект-прокси, который **делегирует** вызовы родительским классам.\n",
    "- Прокси содержит:\n",
    "  - `__thisclass__`: какой класс вызвал `super()`.\n",
    "  - `__self__`: экземпляр, привязанный к вызову `super()`.\n",
    "  - `__self_class__`: класс экземпляра, для которого вызван `super()`."
   ]
  },
  {
   "cell_type": "markdown",
   "id": "f4ca1cc1",
   "metadata": {},
   "source": [
    "### 8.2. `mappingproxy` и `TypeError`\n",
    "- `mappingproxy` — это неизменяемый словарь пространства имен класса.\n",
    "- Попытка изменить `mappingproxy` напрямую приводит к `TypeError`."
   ]
  },
  {
   "cell_type": "markdown",
   "id": "f66b4feb",
   "metadata": {},
   "source": [
    "## 9. MRO (Method Resolution Order)"
   ]
  },
  {
   "cell_type": "markdown",
   "id": "a8354f2e",
   "metadata": {},
   "source": [
    "### 9.1. «Ромбовидное» наследование / diamond problem\n",
    "- Возникает, когда класс наследуется от двух родительских, которые в свою очередь имеют общего предка.\n",
    "- Может приводить к неоднозначности в вызовах методов, если не учтён порядок."
   ]
  },
  {
   "cell_type": "markdown",
   "id": "aac695ed",
   "metadata": {},
   "source": [
    "### 9.2. C3-линеаризация\n",
    "- Python использует **C3-линеаризацию** для определения порядка поиска методов (MRO).\n",
    "- Гарантирует **логичный** и **предсказуемый** порядок разрешения."
   ]
  },
  {
   "cell_type": "code",
   "execution_count": 11,
   "id": "a7fb69cd",
   "metadata": {},
   "outputs": [
    {
     "name": "stdout",
     "output_type": "stream",
     "text": [
      "B\n",
      "(<class '__main__.D'>, <class '__main__.B'>, <class '__main__.C'>, <class '__main__.A'>, <class 'object'>)\n"
     ]
    }
   ],
   "source": [
    "class A:\n",
    "    def test(self):\n",
    "        print(\"A\")\n",
    "\n",
    "class B(A):\n",
    "    def test(self):\n",
    "        print(\"B\")\n",
    "\n",
    "class C(A):\n",
    "    def test(self):\n",
    "        print(\"C\")\n",
    "\n",
    "class D(B, C):\n",
    "    pass\n",
    "\n",
    "d = D()\n",
    "d.test()\n",
    "print(D.__mro__)"
   ]
  },
  {
   "cell_type": "markdown",
   "id": "bb93990c",
   "metadata": {},
   "source": [
    "## 10. Метаклассы"
   ]
  },
  {
   "cell_type": "markdown",
   "id": "aa161d81",
   "metadata": {},
   "source": [
    "### 10.1. `type(name, bases, dict)`\n",
    "- `type` — это метакласс по умолчанию.\n",
    "- `type(name, bases, dict)` создаёт новый класс с переданными именем, базовыми классами и атрибутами."
   ]
  },
  {
   "cell_type": "code",
   "execution_count": 12,
   "id": "c4be89aa",
   "metadata": {},
   "outputs": [
    {
     "name": "stdout",
     "output_type": "stream",
     "text": [
      "123\n"
     ]
    }
   ],
   "source": [
    "NewClass = type(\"NewClass\", (object,), {\"attr\": 123})\n",
    "nc = NewClass()\n",
    "print(nc.attr)"
   ]
  },
  {
   "cell_type": "markdown",
   "id": "d85eedea",
   "metadata": {},
   "source": [
    "### 10.2. Создание собственных метаклассов\n",
    "- Наследовать от `type` и переопределить методы (`__new__`, `__init__`)."
   ]
  },
  {
   "cell_type": "code",
   "execution_count": 13,
   "id": "8bfa99c4",
   "metadata": {},
   "outputs": [
    {
     "name": "stdout",
     "output_type": "stream",
     "text": [
      "Creating class MyClass with metaclass MyMeta\n"
     ]
    }
   ],
   "source": [
    "class MyMeta(type):\n",
    "    def __new__(mcs, name, bases, attrs):\n",
    "        print(f\"Creating class {name} with metaclass {mcs.__name__}\")\n",
    "        return super().__new__(mcs, name, bases, attrs)\n",
    "\n",
    "class MyClass(metaclass=MyMeta):\n",
    "    pass\n",
    "\n",
    "# Создание экземпляра\n",
    "obj = MyClass()"
   ]
  },
  {
   "cell_type": "markdown",
   "id": "952ac38d",
   "metadata": {},
   "source": [
    "### 10.3. Динамическое создание классов\n",
    "- При помощи `type` можно создавать классы «на лету» в рантайме."
   ]
  },
  {
   "cell_type": "markdown",
   "id": "f87386ee",
   "metadata": {},
   "source": [
    "## 11. Миксины\n",
    "- Миксины — это классы, которые предоставляют дополнительную функциональность, но сами по себе **не** предназначены для создания экземпляров.\n",
    "- Содержат методы/атрибуты, которые «примешиваются» к другим классам через множественное наследование.\n",
    "- В исходных источниках подробности про миксины не описаны, но это распространённая практика для расширения функционала. Ниже короткий пример:"
   ]
  },
  {
   "cell_type": "code",
   "execution_count": 14,
   "id": "4c1ebf8c",
   "metadata": {},
   "outputs": [
    {
     "name": "stdout",
     "output_type": "stream",
     "text": [
      "Hello from mixin!\n",
      "Bob\n"
     ]
    }
   ],
   "source": [
    "class GreetMixin:\n",
    "    def greet(self):\n",
    "        print(\"Hello from mixin!\")\n",
    "\n",
    "class Person:\n",
    "    def __init__(self, name):\n",
    "        self.name = name\n",
    "\n",
    "class FriendlyPerson(GreetMixin, Person):\n",
    "    pass\n",
    "\n",
    "fp = FriendlyPerson(\"Bob\")\n",
    "fp.greet()\n",
    "print(fp.name)\n"
   ]
  }
 ],
 "metadata": {
  "kernelspec": {
   "display_name": "Python 3 (ipykernel)",
   "language": "python",
   "name": "python3"
  },
  "language_info": {
   "codemirror_mode": {
    "name": "ipython",
    "version": 3
   },
   "file_extension": ".py",
   "mimetype": "text/x-python",
   "name": "python",
   "nbconvert_exporter": "python",
   "pygments_lexer": "ipython3",
   "version": "3.11.7"
  }
 },
 "nbformat": 4,
 "nbformat_minor": 5
}
