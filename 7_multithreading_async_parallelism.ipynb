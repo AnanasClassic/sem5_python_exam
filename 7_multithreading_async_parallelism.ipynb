{
 "cells": [
  {
   "cell_type": "markdown",
   "id": "a03858e0",
   "metadata": {},
   "source": [
    "# МОДУЛЬ 7: Многопоточность, асинхронка, параллельность"
   ]
  },
  {
   "cell_type": "markdown",
   "id": "7dead193",
   "metadata": {},
   "source": [
    "## 1. Основные концепции"
   ]
  },
  {
   "cell_type": "markdown",
   "id": "974f5d7a",
   "metadata": {},
   "source": [
    "### 1.1. Многозадачность и параллельность\n",
    "- **Многозадачность**: способность компьютера выполнять несколько задач «одновременно» путём **быстрого переключения** между ними.\n",
    "- **Параллельность**: фактическое одновременное выполнение нескольких задач, обычно на разных ядрах процессора.\n",
    "\n",
    "При одноядерных системах создаётся **иллюзия** одновременного выполнения (по времени), тогда как при многоядерных можно действительно исполнять несколько потоков параллельно."
   ]
  },
  {
   "cell_type": "markdown",
   "id": "040c2937",
   "metadata": {},
   "source": [
    "### 1.2. Вытесняющая vs Кооперативная многозадачность\n",
    "- **Вытесняющая многозадачность**: операционная система самостоятельно решает, когда переключаться между задачами (прерывая текущую).\n",
    "- **Кооперативная многозадачность**: задачи сами должны уступать управление (пример — `asyncio` в Python)."
   ]
  },
  {
   "cell_type": "markdown",
   "id": "fac4d688",
   "metadata": {},
   "source": [
    "### 1.3. GIL (Global Interpreter Lock)\n",
    "- **GIL** — механизм в CPython, позволяющий в каждый момент времени **только одному** потоку исполнять **байт-код Python**.\n",
    "- Из-за GIL потоки Python **не** выполняются параллельно на уровне байт-кода (хотя могут освобождать GIL при вызове C/IO-операций)."
   ]
  },
  {
   "cell_type": "code",
   "execution_count": 1,
   "id": "2a4369ed",
   "metadata": {},
   "outputs": [
    {
     "name": "stdout",
     "output_type": "stream",
     "text": [
      "Result: 333333283333335000000\n",
      "Result: 333333283333335000000\n",
      "Done\n"
     ]
    }
   ],
   "source": [
    "# Код-иллюстрация GIL\n",
    "# Запускаем два потока с числовыми вычислениями - прирост производительности не будет линейным.\n",
    "import threading\n",
    "\n",
    "def cpu_bound_task(n):\n",
    "    total = 0\n",
    "    for i in range(n):\n",
    "        total += i * i\n",
    "    return total\n",
    "\n",
    "def run_in_thread(n):\n",
    "    print(f\"Result: {cpu_bound_task(n)}\")\n",
    "\n",
    "t1 = threading.Thread(target=run_in_thread, args=(10_000_000,))\n",
    "t2 = threading.Thread(target=run_in_thread, args=(10_000_000,))\n",
    "\n",
    "t1.start()\n",
    "t2.start()\n",
    "t1.join()\n",
    "t2.join()\n",
    "print(\"Done\")"
   ]
  },
  {
   "cell_type": "markdown",
   "id": "ef99020a",
   "metadata": {},
   "source": [
    "## 2. Threads vs Processes"
   ]
  },
  {
   "cell_type": "markdown",
   "id": "100bf03a",
   "metadata": {},
   "source": [
    "### 2.1. Потоки и процессы\n",
    "- **Потоки (threads)**:\n",
    "  - Делят общее адресное пространство.\n",
    "  - Быстро создаются и переключаются.\n",
    "  - Возникают сложности при синхронизации (race conditions).\n",
    "\n",
    "- **Процессы (processes)**:\n",
    "  - Имеют независимую память.\n",
    "  - Создание тяжелее по ресурсам.\n",
    "  - Легче изолировать, нет проблем с GIL (каждый процесс имеет свой интерпретатор)."
   ]
  },
  {
   "cell_type": "markdown",
   "id": "18da514f",
   "metadata": {},
   "source": [
    "### 2.2. RSS, VMS, Контекст\n",
    "- **RSS (Resident Set Size)**: фактическое использование RAM.\n",
    "- **VMS (Virtual Memory Size)**: общий объем виртуальной памяти, выделенной процессу.\n",
    "- **Контекст**: набор данных (регистры, указатели), нужных для возобновления выполнения потока/процесса."
   ]
  },
  {
   "cell_type": "markdown",
   "id": "94389e85",
   "metadata": {},
   "source": [
    "## 3. Модуль `threading`"
   ]
  },
  {
   "cell_type": "markdown",
   "id": "21f950ff",
   "metadata": {},
   "source": [
    "### 3.1. `Lock`, `RLock`\n",
    "- **`Lock`**: объект, который гарантирует эксклюзивный доступ к ресурсу.\n",
    "- **`RLock`**: реентрантный лок, может быть захвачен одним и тем же потоком несколько раз."
   ]
  },
  {
   "cell_type": "code",
   "execution_count": 2,
   "id": "2899299e",
   "metadata": {},
   "outputs": [
    {
     "name": "stdout",
     "output_type": "stream",
     "text": [
      "shared_counter = 1000\n"
     ]
    }
   ],
   "source": [
    "import threading\n",
    "\n",
    "lock = threading.Lock()\n",
    "shared_counter = 0\n",
    "\n",
    "def increment_counter():\n",
    "    global shared_counter\n",
    "    with lock:\n",
    "        temp = shared_counter\n",
    "        temp += 1\n",
    "        shared_counter = temp\n",
    "\n",
    "threads = [threading.Thread(target=increment_counter) for _ in range(1000)]\n",
    "for t in threads:\n",
    "    t.start()\n",
    "for t in threads:\n",
    "    t.join()\n",
    "\n",
    "print(\"shared_counter =\", shared_counter)"
   ]
  },
  {
   "cell_type": "markdown",
   "id": "854d7c76",
   "metadata": {},
   "source": [
    "### 3.2. `Condition`\n",
    "- Позволяет потокам **ждать** определенного условия и **уведомлять** друг друга. Имеет методы `wait()`, `notify()`, `notify_all()`."
   ]
  },
  {
   "cell_type": "markdown",
   "id": "385c5f9e",
   "metadata": {},
   "source": [
    "### 3.3. `Semaphore`, `BoundedSemaphore`\n",
    "- Ограничивают число потоков, которые могут использовать ресурс одновременно.\n",
    "```python\n",
    "sem = threading.Semaphore(3)  # Позволяем не более 3 потоков\n",
    "```"
   ]
  },
  {
   "cell_type": "markdown",
   "id": "35e258ec",
   "metadata": {},
   "source": [
    "### 3.4. `Event`\n",
    "- Используется для уведомления других потоков о каком-то событии.\n",
    "- `event.set()` – устанавливает событие.\n",
    "- `event.wait()` – блокирует поток, пока событие не установлено."
   ]
  },
  {
   "cell_type": "markdown",
   "id": "69025bce",
   "metadata": {},
   "source": [
    "### 3.5. `Barrier`\n",
    "- Синхронизирует группу потоков, чтобы все «дошли до барьера» прежде, чем продолжить."
   ]
  },
  {
   "cell_type": "markdown",
   "id": "dbfe4218",
   "metadata": {},
   "source": [
    "### 3.6. `Thread`\n",
    "- Класс для создания потоков.\n",
    "- `start()` — запускает поток.\n",
    "- `join()` — ожидает завершение потока."
   ]
  },
  {
   "cell_type": "markdown",
   "id": "5a9e9e08",
   "metadata": {},
   "source": [
    "### 3.7. Race condition\n",
    "- Возникает, когда результат зависит от **порядка** выполнения потоков.\n",
    "- Может приводить к непредсказуемым ошибкам.\n",
    "- Обычно решается с помощью `Lock`/`Semaphore`/`Condition` и т.д."
   ]
  },
  {
   "cell_type": "markdown",
   "id": "61098d88",
   "metadata": {},
   "source": [
    "## 4. Модуль `multiprocessing`"
   ]
  },
  {
   "cell_type": "markdown",
   "id": "aa2d85f5",
   "metadata": {},
   "source": [
    "- Позволяет создавать **процессы**, что обходит GIL.\n",
    "- Аналогичен `threading`, но использует **процессы** под капотом."
   ]
  },
  {
   "cell_type": "markdown",
   "id": "cfe3dd3d",
   "metadata": {},
   "source": [
    "### 4.1. `ProcessPoolExecutor`\n",
    "Позволяет удобно параллелить задачи через пул процессов (внутри модуля `concurrent.futures`)."
   ]
  },
  {
   "cell_type": "code",
   "execution_count": 3,
   "id": "d72c85a3",
   "metadata": {},
   "outputs": [
    {
     "name": "stdout",
     "output_type": "stream",
     "text": [
      "[0, 1, 4, 9, 16, 25, 36, 49, 64, 81, 100, 121, 144, 169, 196, 225, 256, 289, 324, 361, 400, 441, 484, 529, 576, 625, 676, 729, 784, 841, 900, 961, 1024, 1089, 1156, 1225, 1296, 1369, 1444, 1521, 1600, 1681, 1764, 1849, 1936, 2025, 2116, 2209, 2304, 2401, 2500, 2601, 2704, 2809, 2916, 3025, 3136, 3249, 3364, 3481, 3600, 3721, 3844, 3969, 4096, 4225, 4356, 4489, 4624, 4761, 4900, 5041, 5184, 5329, 5476, 5625, 5776, 5929, 6084, 6241, 6400, 6561, 6724, 6889, 7056, 7225, 7396, 7569, 7744, 7921, 8100, 8281, 8464, 8649, 8836, 9025, 9216, 9409, 9604, 9801]\n"
     ]
    }
   ],
   "source": [
    "! python src/7/7_4_1.py"
   ]
  },
  {
   "cell_type": "markdown",
   "id": "3594c24c",
   "metadata": {},
   "source": [
    "## 5. `asyncio`"
   ]
  },
  {
   "cell_type": "markdown",
   "id": "6fd32fd3",
   "metadata": {},
   "source": [
    "Модуль для написания **асинхронного** кода в стиле кооперативной многозадачности.\n",
    "- Подходит для IO-bound задач (сетевые запросы, ввод/вывод)."
   ]
  },
  {
   "cell_type": "markdown",
   "id": "b85192f7",
   "metadata": {},
   "source": [
    "### 5.1. `await`, `asyncio.run()`\n",
    "- `await` приостанавливает корутину, пока не будет готов **awaitable** объект.\n",
    "- `asyncio.run(main())` запускает цикл событий и выполняет корутину `main` до конца."
   ]
  },
  {
   "cell_type": "code",
   "execution_count": 4,
   "id": "eb6c617b",
   "metadata": {},
   "outputs": [
    {
     "name": "stdout",
     "output_type": "stream",
     "text": [
      "Start task 1\n",
      "Start task 2\n",
      "Start task 3\n",
      "End task 1\n",
      "End task 2\n",
      "End task 3\n"
     ]
    }
   ],
   "source": [
    "! python src/7/7_5_1.py"
   ]
  },
  {
   "cell_type": "markdown",
   "id": "82381da5",
   "metadata": {},
   "source": [
    "### 5.2. Event loop\n",
    "- **Event loop** управляет выполнением корутин.\n",
    "- Можно создавать (`new_event_loop()`) и устанавливать (`set_event_loop()`) свои циклы."
   ]
  },
  {
   "cell_type": "markdown",
   "id": "40e65620",
   "metadata": {},
   "source": [
    "### 5.3. Корутины и Задачи\n",
    "- **Корутины**: функции, определённые с `async def`, которые могут быть «приостановлены».\n",
    "- **Задачи (Tasks)**: объекты, обёртывающие корутины. Создаются `asyncio.create_task(coroutine)`."
   ]
  },
  {
   "cell_type": "markdown",
   "id": "295e8321",
   "metadata": {},
   "source": [
    "### 5.4. `asyncio.gather()`, колбэки\n",
    "- `gather()` запускает несколько awaitable-объектов параллельно (кооперативно).\n",
    "- Колбэки могут быть привязаны к задачам (не описаны подробно в источниках)."
   ]
  },
  {
   "cell_type": "markdown",
   "id": "368df176",
   "metadata": {},
   "source": [
    "## Итог\n",
    "Python предоставляет **разнообразные инструменты** для параллелизма и асинхронности, но **GIL** ограничивает параллельное исполнение байт-кода. Для **CPU-bound** задач эффективней использовать `multiprocessing` или внешние модули (NumPy/Cython и т.д.). Для **IO-bound** задач удобен `asyncio` или многопоточность. Выбор подхода зависит от конкретной задачи."
   ]
  }
 ],
 "metadata": {
  "kernelspec": {
   "display_name": "Python 3 (ipykernel)",
   "language": "python",
   "name": "python3"
  },
  "language_info": {
   "codemirror_mode": {
    "name": "ipython",
    "version": 3
   },
   "file_extension": ".py",
   "mimetype": "text/x-python",
   "name": "python",
   "nbconvert_exporter": "python",
   "pygments_lexer": "ipython3",
   "version": "3.11.7"
  }
 },
 "nbformat": 4,
 "nbformat_minor": 5
}
