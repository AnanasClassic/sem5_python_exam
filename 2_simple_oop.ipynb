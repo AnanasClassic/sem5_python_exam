{
 "cells": [
  {
   "cell_type": "markdown",
   "id": "5b0e324e",
   "metadata": {},
   "source": [
    "# МОДУЛЬ 2: Простое ООП"
   ]
  },
  {
   "cell_type": "markdown",
   "id": "eb44bc92",
   "metadata": {},
   "source": [
    "## 1. Основные понятия ООП"
   ]
  },
  {
   "cell_type": "markdown",
   "id": "fd7d577e",
   "metadata": {},
   "source": [
    "### 1.1. Класс и объект (инстанс)\n",
    "- **Класс** – это шаблон или план для создания объектов. В классе описываются атрибуты (данные) и методы (функции).\n",
    "- **Объект** (инстанс) – экземпляр класса, имеющий конкретные значения атрибутов.\n",
    "\n",
    "Пример создания класса и объекта:"
   ]
  },
  {
   "cell_type": "code",
   "execution_count": 1,
   "id": "f5464161",
   "metadata": {},
   "outputs": [
    {
     "name": "stdout",
     "output_type": "stream",
     "text": [
      "Alice 30\n"
     ]
    }
   ],
   "source": [
    "class Person:\n",
    "    def __init__(self, name, age):\n",
    "        self.name = name\n",
    "        self.age = age\n",
    "\n",
    "p = Person(\"Alice\", 30)\n",
    "print(p.name, p.age)"
   ]
  },
  {
   "cell_type": "markdown",
   "id": "4857f98c",
   "metadata": {},
   "source": [
    "### 1.2. Методы и атрибуты\n",
    "- **Атрибуты** – переменные, которые хранят данные, связанные с классом или объектом.\n",
    "  - **Атрибуты класса** общие для всех экземпляров.\n",
    "  - **Атрибуты экземпляра** (обычные переменные внутри `__init__`) уникальны для каждого объекта.\n",
    "- **Методы** – функции, описанные внутри класса, определяющие поведение объектов.\n",
    "\n",
    "Пример использования атрибутов класса и экземпляра:"
   ]
  },
  {
   "cell_type": "code",
   "execution_count": 2,
   "id": "c2913dfb",
   "metadata": {},
   "outputs": [
    {
     "name": "stdout",
     "output_type": "stream",
     "text": [
      "c1.instance_value = 1\n",
      "c2.instance_value = 0\n",
      "Counter.count = 2\n"
     ]
    }
   ],
   "source": [
    "class Counter:\n",
    "    count = 0  # Атрибут класса\n",
    "\n",
    "    def __init__(self):\n",
    "        self.instance_value = 0  # Атрибут экземпляра\n",
    "        Counter.count += 1\n",
    "\n",
    "    def increment(self):\n",
    "        self.instance_value += 1\n",
    "\n",
    "c1 = Counter()\n",
    "c2 = Counter()\n",
    "c1.increment()\n",
    "print(f\"c1.instance_value = {c1.instance_value}\")  # 1\n",
    "print(f\"c2.instance_value = {c2.instance_value}\")  # 0\n",
    "print(f\"Counter.count = {Counter.count}\")         # 2"
   ]
  },
  {
   "cell_type": "markdown",
   "id": "73b30440",
   "metadata": {},
   "source": [
    "### 1.3. `self`\n",
    "- `self` – это ссылка на текущий экземпляр класса внутри методов.\n",
    "- Через `self` можно обращаться к атрибутам и методам самого объекта."
   ]
  },
  {
   "cell_type": "markdown",
   "id": "c81ffc38",
   "metadata": {},
   "source": [
    "### 1.4. Декораторы методов: `@classmethod`, `@staticmethod`\n",
    "- **`@classmethod`**:\n",
    "  - Первый аргумент – `cls`, указывает на сам класс.\n",
    "  - Часто используется для создания фабричных методов.\n",
    "- **`@staticmethod`**:\n",
    "  - Не принимает `self` или `cls`.\n",
    "  - Логически связан с классом, но не зависит от его данных.\n",
    "\n",
    "Пример использования:"
   ]
  },
  {
   "cell_type": "code",
   "execution_count": 3,
   "id": "7c34832e",
   "metadata": {},
   "outputs": [
    {
     "name": "stdout",
     "output_type": "stream",
     "text": [
      "123\n",
      "Hello from static method!\n"
     ]
    }
   ],
   "source": [
    "class MyClass:\n",
    "    def __init__(self, value):\n",
    "        self.value = value\n",
    "\n",
    "    @classmethod\n",
    "    def from_string(cls, text):\n",
    "        \"\"\"Фабричный метод: создает объект из строки\"\"\"\n",
    "        val = int(text)\n",
    "        return cls(val)\n",
    "\n",
    "    @staticmethod\n",
    "    def greet():\n",
    "        \"\"\"Статический метод: не зависит от класса или объекта\"\"\"\n",
    "        print(\"Hello from static method!\")\n",
    "\n",
    "# Использование\n",
    "obj = MyClass.from_string(\"123\")\n",
    "print(obj.value)\n",
    "MyClass.greet()"
   ]
  },
  {
   "cell_type": "markdown",
   "id": "ee057348",
   "metadata": {},
   "source": [
    "### 1.5. Фабричные методы\n",
    "- Методы класса, используемые для создания объектов.\n",
    "- Инкапсулируют логику создания объектов, делают код гибче и расширяемым."
   ]
  },
  {
   "cell_type": "markdown",
   "id": "efa5e258",
   "metadata": {},
   "source": [
    "### 1.6. Получение имени и атрибутов класса\n",
    "- `__name__` – имя класса.\n",
    "- `__dict__` – словарь атрибутов и методов класса.\n",
    "\n",
    "Пример:"
   ]
  },
  {
   "cell_type": "code",
   "execution_count": 4,
   "id": "cc904391",
   "metadata": {},
   "outputs": [
    {
     "name": "stdout",
     "output_type": "stream",
     "text": [
      "Example\n",
      "{'__module__': '__main__', '__dict__': <attribute '__dict__' of 'Example' objects>, '__weakref__': <attribute '__weakref__' of 'Example' objects>, '__doc__': None}\n"
     ]
    }
   ],
   "source": [
    "class Example:\n",
    "    pass\n",
    "\n",
    "print(Example.__name__)   # 'Example'\n",
    "print(Example.__dict__)   # Cловарь атрибутов класса"
   ]
  },
  {
   "cell_type": "markdown",
   "id": "e940856f",
   "metadata": {},
   "source": [
    "## 2. Python Objects"
   ]
  },
  {
   "cell_type": "markdown",
   "id": "957536b8",
   "metadata": {},
   "source": [
    "### 2.1. Ссылки на объекты\n",
    "- В Python переменные хранят не сами объекты, а ссылки на них."
   ]
  },
  {
   "cell_type": "markdown",
   "id": "2943f890",
   "metadata": {},
   "source": [
    "### 2.2. Изменяемые и неизменяемые объекты\n",
    "- **Изменяемые** (list, dict, set): можно менять после создания.\n",
    "- **Неизменяемые** (int, str, tuple): при попытке изменить — создается новый объект.\n",
    "\n",
    "Пример:"
   ]
  },
  {
   "cell_type": "code",
   "execution_count": 5,
   "id": "5a4d65f6",
   "metadata": {},
   "outputs": [
    {
     "name": "stdout",
     "output_type": "stream",
     "text": [
      "[1, 2, 3, 4]\n",
      "Hello World\n",
      "Hello\n"
     ]
    }
   ],
   "source": [
    "my_list = [1, 2, 3]\n",
    "my_list.append(4)     # список меняется на месте\n",
    "print(my_list)\n",
    "\n",
    "my_str = \"Hello\"\n",
    "new_str = my_str + \" World\"  # создание нового объекта\n",
    "print(new_str)\n",
    "print(my_str)                 # исходная строка не изменилась"
   ]
  },
  {
   "cell_type": "markdown",
   "id": "4b3c1415",
   "metadata": {},
   "source": [
    "### 2.3. Хэш объектов\n",
    "- Хэш (число) используется для быстрого сравнения и использования в структурах данных (например, в качестве ключа в словарях).\n",
    "- **Изменяемые объекты** не хэшируются (встроенный `__hash__` отсутствует).\n",
    "- **Неизменяемые объекты** хэшируемы.\n",
    "\n",
    "Пример:"
   ]
  },
  {
   "cell_type": "code",
   "execution_count": 6,
   "id": "dbc2574a",
   "metadata": {},
   "outputs": [
    {
     "name": "stdout",
     "output_type": "stream",
     "text": [
      "4410813407056978149\n"
     ]
    }
   ],
   "source": [
    "print(hash(\"Hello\"))   # хэш строки\n",
    "# print(hash([1,2,3]))  # TypeError: unhashable type: 'list'"
   ]
  },
  {
   "cell_type": "markdown",
   "id": "1ff1a093",
   "metadata": {},
   "source": [
    "### 2.4. Аллокация в памяти\n",
    "- Объекты хранятся в куче (heap).\n",
    "- Память управляется автоматически сборщиком мусора."
   ]
  },
  {
   "cell_type": "markdown",
   "id": "911d3e2f",
   "metadata": {},
   "source": [
    "### 2.5. Определение типа объекта (`type()`)\n",
    "Пример:"
   ]
  },
  {
   "cell_type": "code",
   "execution_count": 7,
   "id": "166a8332",
   "metadata": {},
   "outputs": [
    {
     "name": "stdout",
     "output_type": "stream",
     "text": [
      "<class 'int'>\n",
      "<class 'list'>\n"
     ]
    }
   ],
   "source": [
    "print(type(123))       # <class 'int'>\n",
    "print(type([1, 2, 3])) # <class 'list'>"
   ]
  },
  {
   "cell_type": "markdown",
   "id": "480b6f8a",
   "metadata": {},
   "source": [
    "### 2.6. Создание собственных типов\n",
    "- Используйте ключевое слово `class` для определения нового типа."
   ]
  },
  {
   "cell_type": "markdown",
   "id": "91b5b0f1",
   "metadata": {},
   "source": [
    "### 2.7. Внутренняя структура разных типов\n",
    "- У каждого типа своя реализация и набор операций.\n",
    "- Например, у `list` есть динамический массив, у `dict` – хэш-таблица."
   ]
  },
  {
   "cell_type": "markdown",
   "id": "15de0eac",
   "metadata": {},
   "source": [
    "## 3. Dunder-методы (магические методы)\n",
    "- Специальные методы с двойными подчеркиваниями для переопределения поведения объектов."
   ]
  },
  {
   "cell_type": "markdown",
   "id": "8459ab1c",
   "metadata": {},
   "source": [
    "### 3.1. `__init__` (Конструктор)\n",
    "- Вызывается при создании объекта.\n",
    "- Инициализирует атрибуты.\n",
    "\n",
    "Пример:"
   ]
  },
  {
   "cell_type": "code",
   "execution_count": 8,
   "id": "2b17cfa9",
   "metadata": {},
   "outputs": [
    {
     "name": "stdout",
     "output_type": "stream",
     "text": [
      "2 3\n"
     ]
    }
   ],
   "source": [
    "class Point:\n",
    "    def __init__(self, x, y):\n",
    "        self.x = x\n",
    "        self.y = y\n",
    "\n",
    "p = Point(2, 3)\n",
    "print(p.x, p.y)"
   ]
  },
  {
   "cell_type": "markdown",
   "id": "8d0f6b32",
   "metadata": {},
   "source": [
    "### 3.2. `__repr__` vs `__str__`\n",
    "- **`__repr__`**: строка для отладки (\"формальное\" представление).\n",
    "- **`__str__`**: строка для пользователя (\"читабельное\" представление)."
   ]
  },
  {
   "cell_type": "code",
   "execution_count": 9,
   "id": "b48a1613",
   "metadata": {},
   "outputs": [
    {
     "name": "stdout",
     "output_type": "stream",
     "text": [
      "Vector(1, 2)\n",
      "<1, 2>\n"
     ]
    }
   ],
   "source": [
    "class Vector:\n",
    "    def __init__(self, x, y):\n",
    "        self.x = x\n",
    "        self.y = y\n",
    "\n",
    "    def __repr__(self):\n",
    "        return f\"Vector({self.x}, {self.y})\"  # формально\n",
    "\n",
    "    def __str__(self):\n",
    "        return f\"<{self.x}, {self.y}>\"        # читабельно\n",
    "\n",
    "v = Vector(1, 2)\n",
    "print(repr(v)) # Vector(1, 2)\n",
    "print(str(v))  # <1, 2>"
   ]
  },
  {
   "cell_type": "markdown",
   "id": "445ac119",
   "metadata": {},
   "source": [
    "### 3.3. Другие dunder-методы\n",
    "- **`__len__`**: возвращает длину объекта.\n",
    "- **`__call__`**: делает объект вызываемым, как функцию.\n",
    "- **`__add__`, `__sub__`, `__mul__`, `__truediv__`**: переопределяют арифметические операции."
   ]
  },
  {
   "cell_type": "code",
   "execution_count": 10,
   "id": "975f7346",
   "metadata": {},
   "outputs": [
    {
     "name": "stdout",
     "output_type": "stream",
     "text": [
      "Called object with text: Hello\n"
     ]
    }
   ],
   "source": [
    "class MyCallable:\n",
    "    def __init__(self, text):\n",
    "        self.text = text\n",
    "\n",
    "    def __call__(self):\n",
    "        print(f\"Called object with text: {self.text}\")\n",
    "\n",
    "c = MyCallable(\"Hello\")\n",
    "c()  # Вызываем объект как функцию"
   ]
  },
  {
   "cell_type": "markdown",
   "id": "0136ec91",
   "metadata": {},
   "source": [
    "### 3.4. Роль класса `object` и синтаксический сахар\n",
    "- Все классы в Python наследуются от `object`.\n",
    "- `object` предоставляет базовые методы.\n",
    "- Синтаксический сахар — это способы упростить чтение и написание кода, не меняя общую функциональность."
   ]
  },
  {
   "cell_type": "markdown",
   "id": "645c5ddb",
   "metadata": {},
   "source": [
    "## 4. Инкапсуляция\n",
    "- Механизм, скрывающий внутреннюю реализацию и предоставляющий контролируемый доступ к данным."
   ]
  },
  {
   "cell_type": "markdown",
   "id": "8b9414af",
   "metadata": {},
   "source": [
    "### 4.1. Name mangling (`__attr`)\n",
    "- Приватные атрибуты начинаются с двух подчеркиваний.\n",
    "- Python автоматически меняет имя, добавляя `_ИмяКласса` в начало, чтобы защитить от случайного доступа извне."
   ]
  },
  {
   "cell_type": "code",
   "execution_count": 11,
   "id": "f36ecf31",
   "metadata": {},
   "outputs": [
    {
     "name": "stdout",
     "output_type": "stream",
     "text": [
      "42\n"
     ]
    }
   ],
   "source": [
    "class Secret:\n",
    "    def __init__(self):\n",
    "        self.__secret_value = 42\n",
    "\n",
    "obj = Secret()\n",
    "# print(obj.__secret_value)  # AttributeError\n",
    "print(obj._Secret__secret_value)  # 42 (но так делать не рекомендуется)"
   ]
  },
  {
   "cell_type": "markdown",
   "id": "c8c6c9a9",
   "metadata": {},
   "source": [
    "### 4.2. Геттеры и сеттеры\n",
    "- Методы для чтения (геттер) и записи (сеттер) приватных атрибутов.\n",
    "- Позволяют добавлять логику в моменты чтения/записи данных."
   ]
  },
  {
   "cell_type": "markdown",
   "id": "ce0794c8",
   "metadata": {},
   "source": [
    "### 4.3. @property и \"граница архитектуры\"\n",
    "- Декоратор `@property` позволяет определить геттеры и сеттеры в стиле доступа к обычным атрибутам.\n",
    "- Удобно для создания четкого API, скрывая внутреннюю реализацию.\n",
    "\n",
    "Пример использования `@property`:"
   ]
  },
  {
   "cell_type": "code",
   "execution_count": 12,
   "id": "f984b82f",
   "metadata": {},
   "outputs": [
    {
     "name": "stdout",
     "output_type": "stream",
     "text": [
      "25\n",
      "100\n"
     ]
    }
   ],
   "source": [
    "class Temperature:\n",
    "    def __init__(self, celsius):\n",
    "        self._celsius = celsius\n",
    "\n",
    "    @property\n",
    "    def celsius(self):\n",
    "        return self._celsius\n",
    "\n",
    "    @celsius.setter\n",
    "    def celsius(self, value):\n",
    "        if value < -273.15:\n",
    "            raise ValueError(\"Temperature cannot be below absolute zero!\")\n",
    "        self._celsius = value\n",
    "\n",
    "temp = Temperature(25)\n",
    "print(temp.celsius)\n",
    "temp.celsius = 100\n",
    "print(temp.celsius)\n",
    "# temp.celsius = -300  # ValueError"
   ]
  },
  {
   "cell_type": "markdown",
   "id": "290e077e",
   "metadata": {},
   "source": [
    "## 5. Наследование\n",
    "- Механизм, позволяющий создавать подклассы на основе существующих классов."
   ]
  },
  {
   "cell_type": "markdown",
   "id": "1e580b5e",
   "metadata": {},
   "source": [
    "### 5.1. Назначение наследования\n",
    "- Повторное использование кода.\n",
    "- Расширяемость.\n",
    "- Создание логичной иерархии.\n",
    "- Упрощение поддержки."
   ]
  },
  {
   "cell_type": "markdown",
   "id": "12af76be",
   "metadata": {},
   "source": [
    "### 5.2. Множественное и иерархическое наследование\n",
    "- **Множественное**: класс может наследовать от нескольких родительских классов.\n",
    "- **Иерархическое**: классы образуют древовидную структуру (каждый подкласс имеет одного родителя)."
   ]
  },
  {
   "cell_type": "markdown",
   "id": "5c7e29c7",
   "metadata": {},
   "source": [
    "### 5.3. `super()` и переопределение\n",
    "- `super()` позволяет вызывать методы родительского класса.\n",
    "- Переопределение: можно изменить поведение унаследованных методов."
   ]
  },
  {
   "cell_type": "code",
   "execution_count": 13,
   "id": "dd524de1",
   "metadata": {},
   "outputs": [
    {
     "name": "stdout",
     "output_type": "stream",
     "text": [
      "Woof!\n"
     ]
    }
   ],
   "source": [
    "class Animal:\n",
    "    def __init__(self, name):\n",
    "        self.name = name\n",
    "\n",
    "    def make_sound(self):\n",
    "        print(\"...some sound...\")\n",
    "\n",
    "class Dog(Animal):\n",
    "    def __init__(self, name, breed):\n",
    "        super().__init__(name)  # вызов конструктора Animal\n",
    "        self.breed = breed\n",
    "\n",
    "    def make_sound(self):\n",
    "        print(\"Woof!\")\n",
    "\n",
    "dog = Dog(\"Buddy\", \"Golden Retriever\")\n",
    "dog.make_sound()  # Woof!"
   ]
  },
  {
   "cell_type": "markdown",
   "id": "bb6717da",
   "metadata": {},
   "source": [
    "### 5.4. Переопределение @property\n",
    "- Геттеры/сеттеры, объявленные в родительском классе, можно переопределить в подклассе."
   ]
  },
  {
   "cell_type": "markdown",
   "id": "ae1c1e9e",
   "metadata": {},
   "source": [
    "## 6. Полиморфизм\n",
    "- Способность объектов разных классов реагировать на вызовы одноимённых методов по-своему."
   ]
  },
  {
   "cell_type": "markdown",
   "id": "42cff1b7",
   "metadata": {},
   "source": [
    "Пример полиморфизма:"
   ]
  },
  {
   "cell_type": "code",
   "execution_count": 14,
   "id": "47155242",
   "metadata": {},
   "outputs": [
    {
     "name": "stdout",
     "output_type": "stream",
     "text": [
      "Woof!\n",
      "Meow!\n",
      "...some sound...\n"
     ]
    }
   ],
   "source": [
    "class Cat(Animal):\n",
    "    def make_sound(self):\n",
    "        print(\"Meow!\")\n",
    "\n",
    "animals = [Dog(\"Buddy\", \"Golden Retriever\"), Cat(\"Kitty\"), Animal(\"Generic\")] \n",
    "\n",
    "for a in animals:\n",
    "    a.make_sound()  # Woof! / Meow! / ...some sound..."
   ]
  },
  {
   "cell_type": "markdown",
   "id": "f3c13376",
   "metadata": {},
   "source": [
    "## 7. Прочее"
   ]
  },
  {
   "cell_type": "markdown",
   "id": "43adf7d9",
   "metadata": {},
   "source": [
    "### 7.1. `__dir__()` vs `__dict__` vs `vars()`\n",
    "- **`__dir__()`**: возвращает список доступных атрибутов и методов.\n",
    "- **`__dict__`**: словарь атрибутов объекта.\n",
    "- **`vars()`**: аналогично `__dict__`, может принимать объект в качестве аргумента."
   ]
  },
  {
   "cell_type": "markdown",
   "id": "2b0352cb",
   "metadata": {},
   "source": [
    "### 7.2. `help`, `__class__`, `id`, `hex`\n",
    "- **`help`**: показывает справочную информацию.\n",
    "- **`__class__`**: возвращает класс объекта.\n",
    "- **`id`**: возвращает уникальный идентификатор объекта (в CPython — адрес в памяти).\n",
    "- **`hex`**: преобразует число в шестнадцатеричное представление.\n",
    "\n",
    "Пример:"
   ]
  },
  {
   "cell_type": "code",
   "execution_count": 15,
   "id": "8749b4bf",
   "metadata": {},
   "outputs": [
    {
     "name": "stdout",
     "output_type": "stream",
     "text": [
      "<class 'int'>\n",
      "140718934312008\n",
      "0x7ffbae17c448\n"
     ]
    }
   ],
   "source": [
    "x = 10\n",
    "print(x.__class__)  # <class 'int'>\n",
    "print(id(x))        # уникальный id в CPython\n",
    "print(hex(id(x)))   # шестнадцатеричный вид id\n",
    "\n",
    "# help(int)        # раскомментируйте, чтобы увидеть справку по int"
   ]
  }
 ],
 "metadata": {
  "kernelspec": {
   "display_name": "Python 3 (ipykernel)",
   "language": "python",
   "name": "python3"
  },
  "language_info": {
   "codemirror_mode": {
    "name": "ipython",
    "version": 3
   },
   "file_extension": ".py",
   "mimetype": "text/x-python",
   "name": "python",
   "nbconvert_exporter": "python",
   "pygments_lexer": "ipython3",
   "version": "3.11.7"
  }
 },
 "nbformat": 4,
 "nbformat_minor": 5
}
