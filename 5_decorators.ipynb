{
 "cells": [
  {
   "cell_type": "markdown",
   "id": "d29243e7",
   "metadata": {},
   "source": [
    "# МОДУЛЬ 5: Декораторы"
   ]
  },
  {
   "cell_type": "markdown",
   "id": "648b3a04",
   "metadata": {},
   "source": [
    "## 1. Основные применения декораторов\n",
    "Декораторы в Python – это функции, которые модифицируют поведение других функций, не меняя их код напрямую.\n",
    "Декораторы позволяют «оборачивать» функции дополнительным кодом, сохраняя их исходную функциональность.\n",
    "\n",
    "Ниже – базовый пример декоратора."
   ]
  },
  {
   "cell_type": "code",
   "execution_count": 1,
   "id": "bd1bc56f",
   "metadata": {},
   "outputs": [
    {
     "name": "stdout",
     "output_type": "stream",
     "text": [
      "Что-то делаем до вызова функции\n",
      "Привет!\n",
      "Что-то делаем после вызова функции\n"
     ]
    }
   ],
   "source": [
    "def my_decorator(func):\n",
    "    def wrapper():\n",
    "        print(\"Что-то делаем до вызова функции\")\n",
    "        func()\n",
    "        print(\"Что-то делаем после вызова функции\")\n",
    "    return wrapper\n",
    "\n",
    "@my_decorator\n",
    "def say_hello():\n",
    "    print(\"Привет!\")\n",
    "\n",
    "say_hello()"
   ]
  },
  {
   "cell_type": "markdown",
   "id": "bffe2ad2",
   "metadata": {},
   "source": [
    "### 1.1. Множественные декораторы\n",
    "Можно применить несколько декораторов к одной функции, которые будут вызываться в порядке сверху вниз."
   ]
  },
  {
   "cell_type": "code",
   "execution_count": 2,
   "id": "924813cc",
   "metadata": {},
   "outputs": [
    {
     "name": "stdout",
     "output_type": "stream",
     "text": [
      "Декоратор 1\n",
      "Декоратор 2\n",
      "Привет!\n"
     ]
    }
   ],
   "source": [
    "def decorator_1(func):\n",
    "    def wrapper():\n",
    "        print(\"Декоратор 1\")\n",
    "        func()\n",
    "    return wrapper\n",
    "\n",
    "def decorator_2(func):\n",
    "    def wrapper():\n",
    "        print(\"Декоратор 2\")\n",
    "        func()\n",
    "    return wrapper\n",
    "\n",
    "@decorator_1\n",
    "@decorator_2\n",
    "def say_hello():\n",
    "    print(\"Привет!\")\n",
    "\n",
    "say_hello()"
   ]
  },
  {
   "cell_type": "markdown",
   "id": "10fa521a",
   "metadata": {},
   "source": [
    "### 1.2. Декораторы без аргументов и с аргументами\n",
    "- Декоратор без аргументов – обычный случай.\n",
    "- Декоратор с аргументами – это «фабрика декораторов», возвращающая декоратор."
   ]
  },
  {
   "cell_type": "markdown",
   "id": "b009ed04",
   "metadata": {},
   "source": [
    "## 2. Фабрика декораторов\n",
    "Фабрика декораторов – это функция, принимающая аргументы и возвращающая декоратор."
   ]
  },
  {
   "cell_type": "code",
   "execution_count": 3,
   "id": "b69ee6af",
   "metadata": {},
   "outputs": [
    {
     "name": "stdout",
     "output_type": "stream",
     "text": [
      "Аргумент декоратора: Мой аргумент\n",
      "Привет!\n"
     ]
    }
   ],
   "source": [
    "def decorator_factory(arg):\n",
    "    def my_decorator(func):\n",
    "        def wrapper():\n",
    "            print(f\"Аргумент декоратора: {arg}\")\n",
    "            func()\n",
    "        return wrapper\n",
    "    return my_decorator\n",
    "\n",
    "@decorator_factory(\"Мой аргумент\")\n",
    "def say_hello():\n",
    "    print(\"Привет!\")\n",
    "\n",
    "say_hello()"
   ]
  },
  {
   "cell_type": "markdown",
   "id": "08dfe8dc",
   "metadata": {},
   "source": [
    "### Пример: декоратор с *args и **kwargs\n",
    "Чтобы декоратор мог работать с функциями, имеющими разные сигнатуры (разное число аргументов), используют `*args` и `**kwargs`."
   ]
  },
  {
   "cell_type": "code",
   "execution_count": 4,
   "id": "91415ed3",
   "metadata": {},
   "outputs": [
    {
     "name": "stdout",
     "output_type": "stream",
     "text": [
      "Вызов add с args=(3, 4), kwargs={}\n",
      "add вернула 7\n"
     ]
    }
   ],
   "source": [
    "def logger_decorator(func):\n",
    "    def wrapper(*args, **kwargs):\n",
    "        print(f\"Вызов {func.__name__} с args={args}, kwargs={kwargs}\")\n",
    "        result = func(*args, **kwargs)\n",
    "        print(f\"{func.__name__} вернула {result}\")\n",
    "        return result\n",
    "    return wrapper\n",
    "\n",
    "@logger_decorator\n",
    "def add(a, b):\n",
    "    return a + b\n",
    "\n",
    "sum_value = add(3, 4)"
   ]
  },
  {
   "cell_type": "markdown",
   "id": "50d96167",
   "metadata": {},
   "source": [
    "## 3. Примеры шаблонов использования декораторов\n",
    "1. **Логирование (трассировка)** – показано выше как `logger_decorator`.\n",
    "2. **Кеширование** – сохранение результатов вычислений в кэше.\n",
    "3. **Проверка типов** – например, проверять типы аргументов функции.\n",
    "4. **Синхронизация** – блокировка ресурсов при многопоточном доступе.\n",
    "5. **Прочее** – можно автоматически проверять условия перед и после вызова функции, применять декораторы к методам классов."
   ]
  },
  {
   "cell_type": "markdown",
   "id": "1dbaf2a3",
   "metadata": {},
   "source": [
    "### Кеширование результатов\n",
    "Ниже упрощённый пример декоратора, который кеширует результаты функции:"
   ]
  },
  {
   "cell_type": "code",
   "execution_count": 5,
   "id": "841fe8cf",
   "metadata": {},
   "outputs": [
    {
     "name": "stdout",
     "output_type": "stream",
     "text": [
      "Вычисление: (3, 4)\n",
      "7\n",
      "Из кеша: (3, 4)\n",
      "7\n",
      "Вычисление: (5, 6)\n",
      "11\n"
     ]
    }
   ],
   "source": [
    "def memoize(func):\n",
    "    cache = {}\n",
    "    def wrapper(*args):\n",
    "        if args in cache:\n",
    "            print(\"Из кеша:\", args)\n",
    "            return cache[args]\n",
    "        print(\"Вычисление:\", args)\n",
    "        result = func(*args)\n",
    "        cache[args] = result\n",
    "        return result\n",
    "    return wrapper\n",
    "\n",
    "@memoize\n",
    "def slow_add(a, b):\n",
    "    return a + b\n",
    "\n",
    "print(slow_add(3, 4))\n",
    "print(slow_add(3, 4))  # возьмется из кэша\n",
    "print(slow_add(5, 6))"
   ]
  },
  {
   "cell_type": "markdown",
   "id": "36a758f1",
   "metadata": {},
   "source": [
    "## Итог\n",
    "Декораторы – мощный инструмент Python для переиспользования кода, добавления функциональности к функциям и классам, логирования, проверок и многого другого. Рекомендуется также использовать `functools.wraps`, чтобы сохранить метаданные оригинальной функции при написании сложных декораторов."
   ]
  }
 ],
 "metadata": {
  "kernelspec": {
   "display_name": "Python 3 (ipykernel)",
   "language": "python",
   "name": "python3"
  },
  "language_info": {
   "codemirror_mode": {
    "name": "ipython",
    "version": 3
   },
   "file_extension": ".py",
   "mimetype": "text/x-python",
   "name": "python",
   "nbconvert_exporter": "python",
   "pygments_lexer": "ipython3",
   "version": "3.11.7"
  }
 },
 "nbformat": 4,
 "nbformat_minor": 5
}
