{
 "cells": [
  {
   "cell_type": "markdown",
   "metadata": {
    "collapsed": false,
    "jupyter": {
     "outputs_hidden": false
    }
   },
   "source": [
    "# МОДУЛЬ 6: Память, процессы, потоки и анализ"
   ]
  },
  {
   "cell_type": "markdown",
   "metadata": {
    "collapsed": false,
    "jupyter": {
     "outputs_hidden": false
    }
   },
   "source": [
    "## 1. Сравнение объектов"
   ]
  },
  {
   "cell_type": "markdown",
   "metadata": {
    "collapsed": false,
    "jupyter": {
     "outputs_hidden": false
    }
   },
   "source": [
    "### 1.1. `is` vs `==`\n",
    "- **`is`**: проверяет, указывают ли обе переменные **на один и тот же объект**.\n",
    "- **`==`**: проверяет, равны ли значения двух объектов (вызывает `obj.__eq__`).\n",
    "\n",
    "Пример:"
   ]
  },
  {
   "cell_type": "code",
   "execution_count": 3,
   "metadata": {
    "collapsed": false,
    "jupyter": {
     "outputs_hidden": false
    }
   },
   "outputs": [
    {
     "name": "stdout",
     "output_type": "stream",
     "text": [
      "False\n",
      "True\n",
      "True\n",
      "True\n"
     ]
    }
   ],
   "source": [
    "a = [1, 2, 3]\n",
    "b = [1, 2, 3]\n",
    "\n",
    "print(a is b)   # False (разные объекты в памяти)\n",
    "print(a == b)   # True  (одинаковое содержимое)\n",
    "\n",
    "x = 10\n",
    "y = 10\n",
    "print(x is y)   # True (целые числа в диапазоне -5..256 кэшируются)\n",
    "print(x == y)   # True"
   ]
  },
  {
   "cell_type": "markdown",
   "metadata": {
    "collapsed": false,
    "jupyter": {
     "outputs_hidden": false
    }
   },
   "source": [
    "### 1.2. `__eq__`, `id()`\n",
    "- **`__eq__`** – метод класса, который переопределяет поведение оператора `==`.\n",
    "- **`id()`** – функция, возвращающая адрес объекта в памяти (уникальный идентификатор)."
   ]
  },
  {
   "cell_type": "code",
   "execution_count": 4,
   "metadata": {
    "collapsed": false,
    "jupyter": {
     "outputs_hidden": false
    }
   },
   "outputs": [
    {
     "name": "stdout",
     "output_type": "stream",
     "text": [
      "True\n",
      "False\n",
      "140009996631632 140009996628512\n"
     ]
    }
   ],
   "source": [
    "class Person:\n",
    "    def __init__(self, name):\n",
    "        self.name = name\n",
    "\n",
    "    def __eq__(self, other):\n",
    "        if isinstance(other, Person):\n",
    "            return self.name == other.name\n",
    "        return False\n",
    "\n",
    "p1 = Person(\"Alice\")\n",
    "p2 = Person(\"Alice\")\n",
    "\n",
    "print(p1 == p2)  # True (сравниваем по имени)\n",
    "print(p1 is p2)  # False (разные объекты в памяти)\n",
    "print(id(p1), id(p2))"
   ]
  },
  {
   "cell_type": "markdown",
   "metadata": {
    "collapsed": false,
    "jupyter": {
     "outputs_hidden": false
    }
   },
   "source": [
    "### 1.3. Кэширование (например, целых чисел)\n",
    "Python кэширует небольшие целые числа (обычно от -5 до 256). Поэтому переменные с одним и тем же значением из этого диапазона будут указывать на **один** и тот же объект."
   ]
  },
  {
   "cell_type": "markdown",
   "metadata": {
    "collapsed": false,
    "jupyter": {
     "outputs_hidden": false
    }
   },
   "source": [
    "### 1.4. Стек vs куча (stack vs heap)\n",
    "- **Стек (stack)**: хранит локальные переменные и информацию о вызовах функций (LIFO).\n",
    "- **Куча (heap)**: хранит объекты, созданные во время выполнения. Управляется сборщиком мусора."
   ]
  },
  {
   "cell_type": "markdown",
   "metadata": {
    "collapsed": false,
    "jupyter": {
     "outputs_hidden": false
    }
   },
   "source": [
    "# 2. `psutil`"
   ]
  },
  {
   "cell_type": "markdown",
   "metadata": {
    "collapsed": false,
    "jupyter": {
     "outputs_hidden": false
    }
   },
   "source": [
    "Модуль `psutil` – кроссплатформенная библиотека для получения информации о процессах и системе."
   ]
  },
  {
   "cell_type": "markdown",
   "metadata": {
    "collapsed": false,
    "jupyter": {
     "outputs_hidden": false
    }
   },
   "source": [
    "### 2.1. `psutil.cpu_percent(interval=1, percpu=False)`\n",
    "- Возвращает процент загрузки CPU.\n",
    "- `interval` – время сбора статистики в секундах.\n",
    "- `percpu` – при True возвращает список по ядрам."
   ]
  },
  {
   "cell_type": "code",
   "execution_count": 5,
   "metadata": {
    "collapsed": false,
    "jupyter": {
     "outputs_hidden": false
    }
   },
   "outputs": [
    {
     "name": "stdout",
     "output_type": "stream",
     "text": [
      "Процент загрузки каждого ядра: [36.0, 22.2, 25.8, 40.4]\n"
     ]
    }
   ],
   "source": [
    "import psutil\n",
    "\n",
    "# Пример (может сработать в реальном окружении):\n",
    "cpu_usage = psutil.cpu_percent(interval=1, percpu=True)\n",
    "print(\"Процент загрузки каждого ядра:\", cpu_usage)"
   ]
  },
  {
   "cell_type": "markdown",
   "metadata": {
    "collapsed": false,
    "jupyter": {
     "outputs_hidden": false
    }
   },
   "source": [
    "### 2.2. Мониторинг RAM и SWAP\n",
    "- **`psutil.virtual_memory()`**: информация о RAM.\n",
    "- **`psutil.swap_memory()`**: информация о swap."
   ]
  },
  {
   "cell_type": "code",
   "execution_count": 6,
   "metadata": {
    "collapsed": false,
    "jupyter": {
     "outputs_hidden": false
    }
   },
   "outputs": [
    {
     "name": "stdout",
     "output_type": "stream",
     "text": [
      "RAM Info: svmem(total=33649049600, available=23219613696, percent=31.0, used=6470426624, free=1757433856, active=4350115840, inactive=23464669184, buffers=373293056, cached=25047896064, shared=13824000, slab=2524839936)\n",
      "Swap Info: sswap(total=0, used=0, free=0, percent=0.0, sin=0, sout=0)\n"
     ]
    }
   ],
   "source": [
    "mem_info = psutil.virtual_memory()\n",
    "swap_info = psutil.swap_memory()\n",
    "print(\"RAM Info:\", mem_info)\n",
    "print(\"Swap Info:\", swap_info)"
   ]
  },
  {
   "cell_type": "markdown",
   "metadata": {
    "collapsed": false,
    "jupyter": {
     "outputs_hidden": false
    }
   },
   "source": [
    "### 2.3. Мониторинг дисков\n",
    "- **`psutil.disk_usage(path)`**: информация о дисковом разделе (общий, использованный, свободный объём)."
   ]
  },
  {
   "cell_type": "code",
   "execution_count": 7,
   "metadata": {
    "collapsed": false,
    "jupyter": {
     "outputs_hidden": false
    }
   },
   "outputs": [
    {
     "name": "stdout",
     "output_type": "stream",
     "text": [
      "Disk usage (/): sdiskusage(total=144450502656, used=37830639616, free=106603085824, percent=26.2)\n"
     ]
    }
   ],
   "source": [
    "disk_info = psutil.disk_usage(\"/\")\n",
    "print(\"Disk usage (/):\", disk_info)"
   ]
  },
  {
   "cell_type": "markdown",
   "metadata": {
    "collapsed": false,
    "jupyter": {
     "outputs_hidden": false
    }
   },
   "source": [
    "### 2.4. Мониторинг процессов\n",
    "- **`psutil.Process(pid)`**: объект процесса.\n",
    "- **`memory_full_info()`**: подробная информация о памяти процесса."
   ]
  },
  {
   "cell_type": "code",
   "execution_count": 8,
   "metadata": {
    "collapsed": false,
    "jupyter": {
     "outputs_hidden": false
    }
   },
   "outputs": [
    {
     "name": "stdout",
     "output_type": "stream",
     "text": [
      "Current process PID: 956\n",
      "Memory Info: pfullmem(rss=111022080, vms=839639040, shared=25374720, text=2822144, lib=0, data=291360768, dirty=0, uss=86069248, pss=87790592, swap=0)\n"
     ]
    }
   ],
   "source": [
    "current_process = psutil.Process()\n",
    "print(\"Current process PID:\", current_process.pid)\n",
    "print(\"Memory Info:\", current_process.memory_full_info())"
   ]
  },
  {
   "cell_type": "markdown",
   "metadata": {
    "collapsed": false,
    "jupyter": {
     "outputs_hidden": false
    }
   },
   "source": [
    "# 3. Модуль `resource`"
   ]
  },
  {
   "cell_type": "markdown",
   "metadata": {
    "collapsed": false,
    "jupyter": {
     "outputs_hidden": false
    }
   },
   "source": [
    "Модуль `resource` (доступен не во всех системах, обычно только в Unix-подобных) даёт инструменты для ограничения ресурсов."
   ]
  },
  {
   "cell_type": "markdown",
   "metadata": {
    "collapsed": false,
    "jupyter": {
     "outputs_hidden": false
    }
   },
   "source": [
    "### 3.1. `resource.setrlimit(...)`, `resource.getrlimit(...)`\n",
    "- Устанавливают/получают ограничения на ресурсы (stack, as, cpu, и т.д.)."
   ]
  },
  {
   "cell_type": "code",
   "execution_count": 9,
   "metadata": {
    "collapsed": false,
    "jupyter": {
     "outputs_hidden": false
    }
   },
   "outputs": [
    {
     "name": "stdout",
     "output_type": "stream",
     "text": [
      "Current soft limit (stack): 8388608\n",
      "Current hard limit (stack): -1\n",
      "New soft limit for stack set.\n"
     ]
    }
   ],
   "source": [
    "import resource\n",
    "\n",
    "# Пример (может не работать в некоторых ОС или окружениях):\n",
    "soft, hard = resource.getrlimit(resource.RLIMIT_STACK)\n",
    "print(\"Current soft limit (stack):\", soft)\n",
    "print(\"Current hard limit (stack):\", hard)\n",
    "\n",
    "# Установка нового софт-лимита (просто пример, не всегда сработает)\n",
    "try:\n",
    "    resource.setrlimit(resource.RLIMIT_STACK, (soft//2, hard))\n",
    "    print(\"New soft limit for stack set.\")\n",
    "except Exception as e:\n",
    "    print(\"Cannot set new limit:\", e)"
   ]
  },
  {
   "cell_type": "markdown",
   "metadata": {
    "collapsed": false,
    "jupyter": {
     "outputs_hidden": false
    }
   },
   "source": [
    "### 3.2. Ограничения\n",
    "- **`RLIMIT_STACK`**, **`RLIMIT_CPU`**, **`RLIMIT_AS`** и т.д.\n",
    "Позволяют ограничить размер стека, время CPU, объём памяти и прочие ресурсы."
   ]
  },
  {
   "cell_type": "markdown",
   "metadata": {
    "collapsed": false,
    "jupyter": {
     "outputs_hidden": false
    }
   },
   "source": [
    "### 3.3. `resource.getrusage(who)`\n",
    "- Возвращает статистику по использованию ресурсов (время в user/system mode, максимальный RSS и т.д.)."
   ]
  },
  {
   "cell_type": "code",
   "execution_count": 10,
   "metadata": {
    "collapsed": false,
    "jupyter": {
     "outputs_hidden": false
    }
   },
   "outputs": [
    {
     "name": "stdout",
     "output_type": "stream",
     "text": [
      "User time: 1.339218\n",
      "System time: 0.36486399999999997\n",
      "Max RSS: 108420\n"
     ]
    }
   ],
   "source": [
    "rusage = resource.getrusage(resource.RUSAGE_SELF)\n",
    "print(\"User time:\", rusage.ru_utime)\n",
    "print(\"System time:\", rusage.ru_stime)\n",
    "print(\"Max RSS:\", rusage.ru_maxrss)"
   ]
  },
  {
   "cell_type": "markdown",
   "metadata": {
    "collapsed": false,
    "jupyter": {
     "outputs_hidden": false
    }
   },
   "source": [
    "# 4. Processes vs Threads"
   ]
  },
  {
   "cell_type": "markdown",
   "metadata": {
    "collapsed": false,
    "jupyter": {
     "outputs_hidden": false
    }
   },
   "source": [
    "### 4.1. Память, независимость, ресурсоёмкость\n",
    "- **Процессы**: у каждого процесса своё адресное пространство; создание «тяжелее».\n",
    "- **Потоки**: все потоки внутри процесса делят память; создание «легче»."
   ]
  },
  {
   "cell_type": "markdown",
   "metadata": {
    "collapsed": false,
    "jupyter": {
     "outputs_hidden": false
    }
   },
   "source": [
    "### 4.2. Контекст выполнения, взаимодействие\n",
    "- Процессы имеют независимый контекст.\n",
    "- Потоки могут легко обращаться к общей памяти (что может приводить к гонкам данных).\n",
    "- Взаимодействие между процессами: очереди, пайпы, сокеты."
   ]
  },
  {
   "cell_type": "markdown",
   "metadata": {
    "collapsed": false,
    "jupyter": {
     "outputs_hidden": false
    }
   },
   "source": [
    "## 5. `tracemalloc`"
   ]
  },
  {
   "cell_type": "markdown",
   "metadata": {
    "collapsed": false,
    "jupyter": {
     "outputs_hidden": false
    }
   },
   "source": [
    "Модуль для отладки потребления памяти Python."
   ]
  },
  {
   "cell_type": "markdown",
   "metadata": {
    "collapsed": false,
    "jupyter": {
     "outputs_hidden": false
    }
   },
   "source": [
    "### 5.1. `tracemalloc.start([nframe])`, `tracemalloc.get_traced_memory()`\n",
    "- `start(nframe)` – начинает отслеживание выделения памяти.\n",
    "- `get_traced_memory()` – возвращает текущее и пиковое потребление памяти (в байтах)."
   ]
  },
  {
   "cell_type": "code",
   "execution_count": 11,
   "metadata": {
    "collapsed": false,
    "jupyter": {
     "outputs_hidden": false
    }
   },
   "outputs": [
    {
     "name": "stdout",
     "output_type": "stream",
     "text": [
      "Current: 3594564 bytes, Peak: 3605034 bytes\n"
     ]
    }
   ],
   "source": [
    "import tracemalloc\n",
    "\n",
    "tracemalloc.start()\n",
    "# Код, который выделяет память\n",
    "lst = [i for i in range(100000)]\n",
    "\n",
    "current, peak = tracemalloc.get_traced_memory()\n",
    "print(f\"Current: {current} bytes, Peak: {peak} bytes\")\n",
    "tracemalloc.stop()"
   ]
  },
  {
   "cell_type": "markdown",
   "metadata": {
    "collapsed": false,
    "jupyter": {
     "outputs_hidden": false
    }
   },
   "source": [
    "### 5.2. Снимки и сравнение\n",
    "- `take_snapshot()` создает снимок.\n",
    "- `snapshot.compare_to(old_snapshot, key_type)` сравнивает снимки."
   ]
  },
  {
   "cell_type": "code",
   "execution_count": 12,
   "metadata": {
    "collapsed": false,
    "jupyter": {
     "outputs_hidden": false
    }
   },
   "outputs": [
    {
     "name": "stdout",
     "output_type": "stream",
     "text": [
      "/tmp/ipykernel_956/545038210.py:5: size=7707 KiB (+7707 KiB), count=199984 (+199984), average=39 B\n",
      "/usr/lib/python3.10/codeop.py:118: size=904 B (+520 B), count=13 (+8), average=70 B\n",
      "/usr/lib/python3.10/tracemalloc.py:423: size=504 B (+504 B), count=3 (+3), average=168 B\n"
     ]
    }
   ],
   "source": [
    "tracemalloc.start()\n",
    "snapshot1 = tracemalloc.take_snapshot()\n",
    "\n",
    "# Некоторая аллокация\n",
    "data = [x*x for x in range(200000)]\n",
    "\n",
    "snapshot2 = tracemalloc.take_snapshot()\n",
    "stats = snapshot2.compare_to(snapshot1, 'lineno')\n",
    "for stat in stats[:3]:\n",
    "    print(stat)\n",
    "tracemalloc.stop()"
   ]
  },
  {
   "cell_type": "markdown",
   "metadata": {
    "collapsed": false,
    "jupyter": {
     "outputs_hidden": false
    }
   },
   "source": [
    "### 5.3. Остановка трекинга\n",
    "- `tracemalloc.stop()` завершает сбор статистики и очищает её."
   ]
  },
  {
   "cell_type": "markdown",
   "metadata": {
    "collapsed": false,
    "jupyter": {
     "outputs_hidden": false
    }
   },
   "source": [
    "## 6. Подсчёт ссылок"
   ]
  },
  {
   "cell_type": "markdown",
   "metadata": {
    "collapsed": false,
    "jupyter": {
     "outputs_hidden": false
    }
   },
   "source": [
    "### 6.1. `del` vs `__del__`\n",
    "- **`del var`** удаляет **ссылку** на объект.\n",
    "- **`__del__`** – финализатор (деструктор) в Python, вызывается, когда счетчик ссылок объекта упал до нуля (но не всегда гарантированно сразу)."
   ]
  },
  {
   "cell_type": "code",
   "execution_count": 13,
   "metadata": {
    "collapsed": false,
    "jupyter": {
     "outputs_hidden": false
    }
   },
   "outputs": [
    {
     "name": "stdout",
     "output_type": "stream",
     "text": [
      "__del__ called for test\n"
     ]
    }
   ],
   "source": [
    "class MyClass:\n",
    "    def __init__(self, name):\n",
    "        self.name = name\n",
    "    def __del__(self):\n",
    "        print(f\"__del__ called for {self.name}\")\n",
    "\n",
    "obj = MyClass(\"test\")\n",
    "del obj  # Удаляем ссылку\n"
   ]
  },
  {
   "cell_type": "markdown",
   "metadata": {
    "collapsed": false,
    "jupyter": {
     "outputs_hidden": false
    }
   },
   "source": [
    "### 6.2. Как работает сборка мусора\n",
    "- Python использует **подсчет ссылок** + **циклический GC**.\n",
    "- Если на объект не осталось сильных ссылок, он может быть удален сборщиком мусора."
   ]
  },
  {
   "cell_type": "markdown",
   "metadata": {
    "collapsed": false,
    "jupyter": {
     "outputs_hidden": false
    }
   },
   "source": [
    "## 7. Межпроцессное взаимодействие\n",
    "В рамках `multiprocessing` есть очереди, каналы, сокеты и т.д. Для примеров можно использовать:"
   ]
  },
  {
   "cell_type": "code",
   "execution_count": 14,
   "metadata": {
    "collapsed": false,
    "jupyter": {
     "outputs_hidden": false
    }
   },
   "outputs": [
    {
     "name": "stdout",
     "output_type": "stream",
     "text": [
      "Hello from process\n"
     ]
    }
   ],
   "source": [
    "from multiprocessing import Process, Queue\n",
    "\n",
    "def worker(q):\n",
    "    q.put(\"Hello from process\")\n",
    "\n",
    "if __name__ == \"__main__\":\n",
    "    q = Queue()\n",
    "    p = Process(target=worker, args=(q,))\n",
    "    p.start()\n",
    "    print(q.get())\n",
    "    p.join()"
   ]
  },
  {
   "cell_type": "markdown",
   "metadata": {
    "collapsed": false,
    "jupyter": {
     "outputs_hidden": false
    }
   },
   "source": [
    "## 8. GC (Garbage Collector)"
   ]
  },
  {
   "cell_type": "markdown",
   "metadata": {
    "collapsed": false,
    "jupyter": {
     "outputs_hidden": false
    }
   },
   "source": [
    "### 8.1. Поколения объектов\n",
    "- Три поколения (0, 1, 2). Новые объекты попадают в поколение 0.\n",
    "- Если объект пережил сборку мусора, он перемещается в следующее поколение."
   ]
  },
  {
   "cell_type": "markdown",
   "metadata": {
    "collapsed": false,
    "jupyter": {
     "outputs_hidden": false
    }
   },
   "source": [
    "### 8.2. Методы GC"
   ]
  },
  {
   "cell_type": "code",
   "execution_count": 15,
   "metadata": {
    "collapsed": false,
    "jupyter": {
     "outputs_hidden": false
    }
   },
   "outputs": [
    {
     "name": "stdout",
     "output_type": "stream",
     "text": [
      "GC stats: [{'collections': 612, 'collected': 2196, 'uncollectable': 0}, {'collections': 55, 'collected': 723, 'uncollectable': 0}, {'collections': 3, 'collected': 0, 'uncollectable': 0}]\n"
     ]
    }
   ],
   "source": [
    "import gc\n",
    "\n",
    "print(\"GC stats:\", gc.get_stats())\n",
    "gc.collect()  # Принудительная сборка мусора\n",
    "gc.enable()\n",
    "gc.disable()\n",
    "gc.set_debug(gc.DEBUG_STATS)\n",
    "gc.set_debug(0)  # отключаем дебаг\n"
   ]
  },
  {
   "cell_type": "markdown",
   "metadata": {
    "collapsed": false,
    "jupyter": {
     "outputs_hidden": false
    }
   },
   "source": [
    "### 8.3. Атрибуты отладки\n",
    "С помощью `gc.DEBUG_*` можно включить отладочные сообщения."
   ]
  },
  {
   "cell_type": "markdown",
   "metadata": {
    "collapsed": false,
    "jupyter": {
     "outputs_hidden": false
    }
   },
   "source": [
    "### 8.4. Слежение за объектами\n",
    "- **`gc.get_objects()`**: список объектов, за которыми следит GC.\n",
    "- **`gc.is_tracked(obj)`**: отслеживается ли объект.\n",
    "- **`gc.get_referrers(obj)`**: кто ссылается на объект.\n",
    "- **`gc.get_referents(*objs)`**: на что ссылаются объекты."
   ]
  },
  {
   "cell_type": "markdown",
   "metadata": {
    "collapsed": false,
    "jupyter": {
     "outputs_hidden": false
    }
   },
   "source": [
    "### 8.5. Заморозка (`gc.freeze()`, `gc.unfreeze()`)\n",
    "Замораживает объекты в старшем поколении, чтобы не перемещать их. Может быть полезно в долгоживущих программах."
   ]
  },
  {
   "cell_type": "markdown",
   "metadata": {
    "collapsed": false,
    "jupyter": {
     "outputs_hidden": false
    }
   },
   "source": [
    "### 8.6. Коллбэки\n",
    "`gc.callbacks` – список функций, вызываемых при запуске/завершении сборки мусора."
   ]
  },
  {
   "cell_type": "markdown",
   "metadata": {
    "collapsed": false,
    "jupyter": {
     "outputs_hidden": false
    }
   },
   "source": [
    "## 9. `weakref`"
   ]
  },
  {
   "cell_type": "markdown",
   "metadata": {
    "collapsed": false,
    "jupyter": {
     "outputs_hidden": false
    }
   },
   "source": [
    "### 9.1. Принцип работы слабых ссылок\n",
    "- Слабые ссылки не увеличивают счетчик ссылок на объект.\n",
    "- Когда объект собран GC, слабая ссылка становится недействительной (возвращает `None`)."
   ]
  },
  {
   "cell_type": "markdown",
   "metadata": {
    "collapsed": false,
    "jupyter": {
     "outputs_hidden": false
    }
   },
   "source": [
    "### 9.2. Применение и преимущества\n",
    "- Можно создавать кэши и не препятствовать сборке мусора.\n",
    "- Подходят для внутренних структур, которые не должны держать объект в памяти силой."
   ]
  },
  {
   "cell_type": "code",
   "execution_count": 16,
   "metadata": {
    "collapsed": false,
    "jupyter": {
     "outputs_hidden": false
    }
   },
   "outputs": [
    {
     "name": "stdout",
     "output_type": "stream",
     "text": [
      "Weak ref before deleting: <__main__.Node object at 0x7f103f40b490>\n",
      "Weak ref after deleting: None\n"
     ]
    }
   ],
   "source": [
    "import weakref\n",
    "\n",
    "class Node:\n",
    "    pass\n",
    "\n",
    "n = Node()\n",
    "weak = weakref.ref(n)\n",
    "print(\"Weak ref before deleting:\", weak())  # <__main__.Node object ...>\n",
    "\n",
    "del n  # Удаляем единственную сильную ссылку\n",
    "import gc\n",
    "gc.collect()  # Форсируем сборку мусора\n",
    "\n",
    "print(\"Weak ref after deleting:\", weak())  # None, объект собран GC"
   ]
  }
 ],
 "metadata": {
  "kernelspec": {
   "display_name": "Python 3 (ipykernel)",
   "language": "python",
   "name": "python3"
  },
  "language_info": {
   "codemirror_mode": {
    "name": "ipython",
    "version": 3
   },
   "file_extension": ".py",
   "mimetype": "text/x-python",
   "name": "python",
   "nbconvert_exporter": "python",
   "pygments_lexer": "ipython3",
   "version": "3.11.7"
  }
 },
 "nbformat": 4,
 "nbformat_minor": 4
}
