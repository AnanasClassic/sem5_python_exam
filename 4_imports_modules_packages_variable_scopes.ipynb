{
 "cells": [
  {
   "cell_type": "markdown",
   "id": "209b6e33",
   "metadata": {},
   "source": [
    "# МОДУЛЬ 4: Импорт, модули, пакеты, области видимости переменных"
   ]
  },
  {
   "cell_type": "markdown",
   "id": "1b214dca",
   "metadata": {},
   "source": [
    "## 1. Области видимости"
   ]
  },
  {
   "cell_type": "markdown",
   "id": "7a92222b",
   "metadata": {},
   "source": [
    "### 1.1. LEGB (Local, Enclosed, Global, Built-in)\n",
    "**LEGB** описывает порядок, в котором Python ищет переменные:\n",
    "1. **Local (локальная)**: Внутри текущей функции.\n",
    "2. **Enclosed (охватывающая)**: Во внешней функции (если есть).\n",
    "3. **Global (глобальная)**: На уровне модуля (файла с кодом).\n",
    "4. **Built-in (встроенная)**: Встроенные имена Python (например, `len`, `print`)."
   ]
  },
  {
   "cell_type": "markdown",
   "id": "0e09c315",
   "metadata": {},
   "source": [
    "Пример демонстрации LEGB:"
   ]
  },
  {
   "cell_type": "code",
   "execution_count": 1,
   "id": "7daada6c",
   "metadata": {},
   "outputs": [
    {
     "name": "stdout",
     "output_type": "stream",
     "text": [
      "Local x = 30\n",
      "Enclosed x = 20\n",
      "Global x = 10\n",
      "Built-in len = 3\n"
     ]
    }
   ],
   "source": [
    "x = 10  # Global\n",
    "\n",
    "def outer_func():\n",
    "    x = 20  # Enclosed\n",
    "    \n",
    "    def inner_func():\n",
    "        x = 30  # Local\n",
    "        print(\"Local x =\", x)\n",
    "    \n",
    "    inner_func()\n",
    "    print(\"Enclosed x =\", x)\n",
    "\n",
    "outer_func()\n",
    "print(\"Global x =\", x)\n",
    "print(\"Built-in len =\", len([1,2,3]))  # Built-in"
   ]
  },
  {
   "cell_type": "markdown",
   "id": "b066a8b6",
   "metadata": {},
   "source": [
    "### 1.2. `global` и `nonlocal`\n",
    "- **`global`**: Позволяет функции изменить значение глобальной переменной.\n",
    "- **`nonlocal`**: Позволяет внутренней функции изменить переменную охватывающей функции (не глобальную)."
   ]
  },
  {
   "cell_type": "code",
   "execution_count": 2,
   "id": "8b34b9da",
   "metadata": {},
   "outputs": [
    {
     "name": "stdout",
     "output_type": "stream",
     "text": [
      "Counter after increase_global: 1\n"
     ]
    }
   ],
   "source": [
    "# Пример использования global:\n",
    "counter = 0\n",
    "\n",
    "def increase_global():\n",
    "    global counter\n",
    "    counter += 1\n",
    "\n",
    "increase_global()\n",
    "print(\"Counter after increase_global:\", counter)\n"
   ]
  },
  {
   "cell_type": "code",
   "execution_count": 3,
   "id": "55029d94",
   "metadata": {},
   "outputs": [
    {
     "name": "stdout",
     "output_type": "stream",
     "text": [
      "Inner x: 15\n",
      "Outer x: 15\n"
     ]
    }
   ],
   "source": [
    "# Пример использования nonlocal:\n",
    "def outer():\n",
    "    x = 5\n",
    "    \n",
    "    def inner():\n",
    "        nonlocal x  # ссылаемся на переменную из outer()\n",
    "        x += 10\n",
    "        print(\"Inner x:\", x)\n",
    "    \n",
    "    inner()\n",
    "    print(\"Outer x:\", x)\n",
    "\n",
    "outer()"
   ]
  },
  {
   "cell_type": "markdown",
   "id": "965e6fcc",
   "metadata": {},
   "source": [
    "### 1.3. Scope vs Namespace\n",
    "- **Scope (область видимости)** определяет, где доступна переменная.\n",
    "- **Namespace (пространство имен)** — это коллекция имён и их значений (переменные, функции, классы и т.д.)."
   ]
  },
  {
   "cell_type": "markdown",
   "id": "91471707",
   "metadata": {},
   "source": [
    "### 1.4. `globals()`, `dir()`, `locals()`\n",
    "- **`globals()`**: возвращает словарь глобального пространства имен.\n",
    "- **`locals()`**: возвращает словарь локального пространства имен.\n",
    "- **`dir()`**: возвращает список имён текущего пространства (атрибутов модуля, объекта и т.п.)."
   ]
  },
  {
   "cell_type": "code",
   "execution_count": 4,
   "id": "85aeb4c7",
   "metadata": {},
   "outputs": [
    {
     "name": "stdout",
     "output_type": "stream",
     "text": [
      "locals() inside function: {'local_var': 123}\n",
      "globals() in module: ['__name__', '__doc__', '__package__', '__loader__', '__spec__', '__builtin__', '__builtins__', '_ih', '_oh', '_dh'] ...\n",
      "dir() in module: ['In', 'NamespaceMagics', 'Out', '_', '__', '__K', '___', '__builtin__', '__builtins__', '__doc__'] ...\n"
     ]
    }
   ],
   "source": [
    "def example_func():\n",
    "    local_var = 123\n",
    "    print(\"locals() inside function:\", locals())\n",
    "\n",
    "example_func()\n",
    "print(\"globals() in module:\", list(globals().keys())[:10], \"...\")  # Выведем часть ключей\n",
    "print(\"dir() in module:\", dir()[:10], \"...\")"
   ]
  },
  {
   "cell_type": "markdown",
   "id": "b7aabd0f",
   "metadata": {},
   "source": [
    "### 1.5. `if __name__ == '__main__'`\n",
    "При запуске Python-файла напрямую, `__name__` в нем равно `'__main__'`. Это условие защищает код от выполнения при импортировании как модуля."
   ]
  },
  {
   "cell_type": "markdown",
   "id": "66449c34",
   "metadata": {},
   "source": [
    "### 1.6. Процесс компиляции\n",
    "В Python исходный код **компилируется** в байт-код (`.pyc`), который затем исполняется виртуальной машиной (PVM)."
   ]
  },
  {
   "cell_type": "markdown",
   "id": "7e280ad6",
   "metadata": {},
   "source": [
    "## 2. Дополнительно"
   ]
  },
  {
   "cell_type": "markdown",
   "id": "376652cd",
   "metadata": {},
   "source": [
    "### 2.1. «Моржовый оператор» (`:=`)\n",
    "Позволяет присвоить переменной значение прямо внутри выражения.\n",
    "```python\n",
    "if (n := len([1,2,3])) > 2:\n",
    "    print(n)\n",
    "```"
   ]
  },
  {
   "cell_type": "markdown",
   "id": "62205227",
   "metadata": {},
   "source": [
    "### 2.2. `func.__code__.co_varnames`\n",
    "Хранит список имён локальных переменных функции. Пример:"
   ]
  },
  {
   "cell_type": "code",
   "execution_count": 5,
   "id": "913dbc8f",
   "metadata": {},
   "outputs": [
    {
     "name": "stdout",
     "output_type": "stream",
     "text": [
      "('a', 'b', 'x', 'y')\n"
     ]
    }
   ],
   "source": [
    "def sample_func(a, b):\n",
    "    x = a + b\n",
    "    y = x * 2\n",
    "    return y\n",
    "\n",
    "print(sample_func.__code__.co_varnames)  # ('a', 'b', 'x', 'y')"
   ]
  },
  {
   "cell_type": "markdown",
   "id": "864c8534",
   "metadata": {},
   "source": [
    "## 3. Замыкания (Closures)"
   ]
  },
  {
   "cell_type": "markdown",
   "id": "ecc2b5b8",
   "metadata": {},
   "source": [
    "### 3.1. Определение, примеры\n",
    "Замыкание — это функция, которая запоминает переменные из внешней области видимости, даже если сама внешняя функция уже завершила работу."
   ]
  },
  {
   "cell_type": "code",
   "execution_count": 6,
   "id": "2f8f5ba0",
   "metadata": {},
   "outputs": [
    {
     "name": "stdout",
     "output_type": "stream",
     "text": [
      "30\n",
      "50\n"
     ]
    }
   ],
   "source": [
    "def make_multiplier(n):\n",
    "    def multiplier(x):\n",
    "        return x * n  # n из охватывающей области\n",
    "    return multiplier\n",
    "\n",
    "times3 = make_multiplier(3)\n",
    "times5 = make_multiplier(5)\n",
    "\n",
    "print(times3(10))  # 30\n",
    "print(times5(10))  # 50"
   ]
  },
  {
   "cell_type": "markdown",
   "id": "8bfd4580",
   "metadata": {},
   "source": [
    "### 3.2. Зачем нужны\n",
    "- Создание функций с состоянием.\n",
    "- Реализация декораторов и колбэков."
   ]
  },
  {
   "cell_type": "markdown",
   "id": "c0c909a7",
   "metadata": {},
   "source": [
    "### 3.3. Свободные переменные (free variables)\n",
    "Переменные, используемые в замыкании, но не объявленные в самой внутренней функции."
   ]
  },
  {
   "cell_type": "markdown",
   "id": "7c08ad56",
   "metadata": {},
   "source": [
    "### 3.4. Извлечение значений и имён\n",
    "Можно использовать `__closure__` для анализа замыкания, но это довольно низкоуровневый подход.\n",
    "```python\n",
    "times3.__closure__  # Кортеж ячеек с сохранёнными переменными\n",
    "```"
   ]
  },
  {
   "cell_type": "markdown",
   "id": "dd1b3557",
   "metadata": {},
   "source": [
    "## 4. Импорт"
   ]
  },
  {
   "cell_type": "markdown",
   "id": "d17a9b45",
   "metadata": {},
   "source": [
    "### 4.1. `__init__.py`, `__all__`, non-public\n",
    "- `__init__.py` делает папку пакетом.\n",
    "- `__all__` — список имён, импортируемых при `from module import *`.\n",
    "- Имена, начинающиеся с `_`, считаются непубличными."
   ]
  },
  {
   "cell_type": "markdown",
   "id": "2da4efd5",
   "metadata": {},
   "source": [
    "Пример структуры:\n",
    "```\n",
    "mypackage/\n",
    "  __init__.py\n",
    "  module_a.py\n",
    "  module_b.py\n",
    "```\n",
    "```python\n",
    "# mypackage/__init__.py\n",
    "__all__ = [\"module_a\"]\n",
    "```"
   ]
  },
  {
   "cell_type": "markdown",
   "id": "071c8f7a",
   "metadata": {},
   "source": [
    "### 4.2. `__import__`\n",
    "Функция, позволяющая вручную импортировать модуль:\n",
    "```python\n",
    "mod = __import__(\"math\")\n",
    "print(mod.sqrt(16))\n",
    "```"
   ]
  },
  {
   "cell_type": "markdown",
   "id": "513c523e",
   "metadata": {},
   "source": [
    "### 4.3. Абсолютные и относительные импорты\n",
    "- **Абсолютные** указывают полный путь пакета.\n",
    "- **Относительные** используют синтаксис точек (`.`, `..`) для указания пути относительно текущего модуля."
   ]
  },
  {
   "cell_type": "markdown",
   "id": "517590c1",
   "metadata": {},
   "source": [
    "### 4.4. Где лежат используемые библиотеки? (`sys.modules`)\n",
    "`sys.modules` — словарь всех уже загруженных модулей.\n",
    "```python\n",
    "import sys\n",
    "print(sys.modules.keys())\n",
    "```"
   ]
  },
  {
   "cell_type": "markdown",
   "id": "c40299c8",
   "metadata": {},
   "source": [
    "## 5. Управление пакетами"
   ]
  },
  {
   "cell_type": "markdown",
   "id": "1293e184",
   "metadata": {},
   "source": [
    "### 5.1. APT / `python-apt`\n",
    "- **APT** — менеджер пакетов в Linux.\n",
    "- `python-apt` — модуль для взаимодействия с APT из Python."
   ]
  },
  {
   "cell_type": "markdown",
   "id": "5948638a",
   "metadata": {},
   "source": [
    "### 5.2. `pip` и расположение пакетов\n",
    "- **pip** — менеджер пакетов Python.\n",
    "- Устанавливает пакеты глобально или в виртуальном окружении.\n",
    "```bash\n",
    "pip install requests  # Установка пакета\n",
    "```"
   ]
  },
  {
   "cell_type": "markdown",
   "id": "7392c2a3",
   "metadata": {},
   "source": [
    "### 5.3. Работа с кэшем (`~/.cache/pip`, `pip cache purge`, `--no-cache-dir`)\n",
    "- `~/.cache/pip` — директория кэша.\n",
    "- `pip cache purge` — очистка кэша.\n",
    "- `--no-cache-dir` — отключить использование кэша при установке пакета."
   ]
  },
  {
   "cell_type": "markdown",
   "id": "77b74f27",
   "metadata": {},
   "source": [
    "### 5.4. Связь `pip` и `gcc`\n",
    "При установке пакетов с C/C++-кодом (например, `pandas`, `lxml`) может понадобиться **gcc** для их компиляции."
   ]
  },
  {
   "cell_type": "markdown",
   "id": "78db0bc9",
   "metadata": {},
   "source": [
    "## 6. Интерактивные окружения"
   ]
  },
  {
   "cell_type": "markdown",
   "id": "2b5103fa",
   "metadata": {},
   "source": [
    "### 6.1. Google Colab\n",
    "- В Colab можно запускать Python-код в облаке.\n",
    "- Доступ к GPU/TPU, нет swap по умолчанию.\n",
    "```bash\n",
    "!python3 --version\n",
    "```"
   ]
  },
  {
   "cell_type": "markdown",
   "id": "a9fe7c10",
   "metadata": {},
   "source": [
    "## 7. Модуль `sys`"
   ]
  },
  {
   "cell_type": "markdown",
   "id": "0e147ec8",
   "metadata": {},
   "source": [
    "### 7.1. `sys.executable`\n",
    "Путь к Python-интерпретатору.\n",
    "```python\n",
    "import sys\n",
    "print(sys.executable)\n",
    "```"
   ]
  },
  {
   "cell_type": "markdown",
   "id": "08f85031",
   "metadata": {},
   "source": [
    "### 7.2. `sys.argv`, `sys.exit()`\n",
    "- `sys.argv` — список аргументов командной строки.\n",
    "- `sys.exit()` — выход из программы."
   ]
  },
  {
   "cell_type": "markdown",
   "id": "b108d19e",
   "metadata": {},
   "source": [
    "### 7.3. `sys.path` и `sys.modules`\n",
    "- `sys.path` — список путей, где Python ищет модули.\n",
    "- `sys.modules` — словарь уже загруженных модулей."
   ]
  },
  {
   "cell_type": "markdown",
   "id": "148ab973",
   "metadata": {},
   "source": [
    "### 7.4. `sys.version`, `sys.version_info`\n",
    "- `sys.version` — строка с версией Python.\n",
    "- `sys.version_info` — кортеж с деталями версии."
   ]
  },
  {
   "cell_type": "markdown",
   "id": "6a7fa1c3",
   "metadata": {},
   "source": [
    "### 7.5. `sys.platform`\n",
    "Строка с информацией о платформе (например, `win32`, `linux` или `darwin`)."
   ]
  },
  {
   "cell_type": "markdown",
   "id": "3bb9770a",
   "metadata": {},
   "source": [
    "### 7.6. `sys.getsizeof(object)` vs `object.__sizeof__()`\n",
    "- `sys.getsizeof(object)` — возвращает полный размер объекта в байтах (включая накладные расходы).\n",
    "- `object.__sizeof__()` — базовый метод, может не показывать полные накладные расходы."
   ]
  },
  {
   "cell_type": "markdown",
   "id": "909caa4e",
   "metadata": {},
   "source": [
    "### 7.7. `sys.getrefcount(object)`\n",
    "Возвращает количество ссылок на объект. Может отличаться при работе в интерактивных средах (потому что сама функция создает временные ссылки)."
   ]
  },
  {
   "cell_type": "markdown",
   "id": "f40aeabe",
   "metadata": {},
   "source": [
    "## 8. Built-in модули и `importlib`"
   ]
  },
  {
   "cell_type": "markdown",
   "id": "127ef43e",
   "metadata": {},
   "source": [
    "### 8.1. `builtins`, `__builtin__`, `__builtins__`\n",
    "- `builtins` — основной модуль со встроенными функциями в Python 3.\n",
    "- `__builtin__` — в Python 2, тоже модуль встроенных функций.\n",
    "- `__builtins__` — словарь или ссылка на модуль встроенных объектов."
   ]
  },
  {
   "cell_type": "markdown",
   "id": "fa61dbe7",
   "metadata": {},
   "source": [
    "### 8.2. Просмотр версии модуля, `__name__`\n",
    "- `module.__version__` (если предусмотрено) или `help(module)`.\n",
    "- `__name__` показывает имя модуля (или `'__main__'` при прямом запуске)."
   ]
  },
  {
   "cell_type": "markdown",
   "id": "432be63b",
   "metadata": {},
   "source": [
    "### 8.3. `importlib.reload(...)`\n",
    "- Позволяет перезагрузить уже импортированный модуль.\n",
    "```python\n",
    "import importlib\n",
    "import math\n",
    "importlib.reload(math)\n",
    "```"
   ]
  },
  {
   "cell_type": "markdown",
   "id": "c5c484de",
   "metadata": {},
   "source": [
    "### 8.4. Создание модулей на лету (`%%writefile`, `.import_module(...)`)\n",
    "- В Jupyter Notebook можно использовать `%%writefile file.py`.\n",
    "- `importlib.import_module(name)` динамически импортирует модуль по имени."
   ]
  },
  {
   "cell_type": "markdown",
   "id": "44747b2c",
   "metadata": {},
   "source": [
    "## 9. Структура проекта"
   ]
  },
  {
   "cell_type": "markdown",
   "id": "aee3b777",
   "metadata": {},
   "source": [
    "### 9.1. `__init__.py`, `__all__`, `__doc__`, `__annotations__`\n",
    "- `__init__.py` позволяет Python распознавать директорию как пакет.\n",
    "- `__all__` описывает, какие имена экспортировать при `from package import *`.\n",
    "- `__doc__` содержит строку документации модуля.\n",
    "- `__annotations__` хранит аннотации типов."
   ]
  },
  {
   "cell_type": "markdown",
   "id": "cd7528a3",
   "metadata": {},
   "source": [
    "### 9.2. Организация пакетов и подпакетов\n",
    "Пакеты могут содержать подпакеты, которые сами имеют `__init__.py`. Глубокая иерархия пакетов позволяет удобно структурировать проект."
   ]
  }
 ],
 "metadata": {
  "kernelspec": {
   "display_name": "Python 3 (ipykernel)",
   "language": "python",
   "name": "python3"
  },
  "language_info": {
   "codemirror_mode": {
    "name": "ipython",
    "version": 3
   },
   "file_extension": ".py",
   "mimetype": "text/x-python",
   "name": "python",
   "nbconvert_exporter": "python",
   "pygments_lexer": "ipython3",
   "version": "3.11.7"
  }
 },
 "nbformat": 4,
 "nbformat_minor": 5
}
